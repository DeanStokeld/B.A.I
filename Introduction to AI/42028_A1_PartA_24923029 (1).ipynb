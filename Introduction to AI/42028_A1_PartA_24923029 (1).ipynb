{
  "cells": [
    {
      "cell_type": "markdown",
      "source": [
        "# The Dataset\n",
        "\n",
        "The dataset includes a unique set of varying images of handwritten mathematical symbols based on student ID numbers.\n",
        "\n",
        "My specific set includes a balanced dataset of 5000 images of 10 math sybmols:\n",
        "\n",
        "## π, 7, +, 3, lim, cos, (, ÷, 9, 8."
      ],
      "metadata": {
        "id": "xTUIc-eJkzK5"
      }
    },
    {
      "cell_type": "markdown",
      "source": [
        "# The Purpose (or Problem)\n",
        "\n",
        "The goal of this assignment is to develop and evaluate two different ML classifiers:\n",
        "\n",
        "*   Support Vector Machine (SVM)\n",
        "*   Artifical Neural Network (ANN)\n",
        "\n",
        "These classifiers will be used for a mathematical symbol classification task and their performance on extracted features to be compared.\n",
        "\n",
        "The problem involves accurately classifying mathematical symbols using the following extracted features:\n",
        "\n",
        "*   Raw Pixel Values - Direct pixel intensity from image\n",
        "*   Histogram of Orientated Gradients (HOG) - Edge and shape information\n",
        "*   Local Binary Patter (LBP) - Texture-based patterns.\n",
        "*   Combination(s) of features\n",
        "\n",
        "\n",
        "\n",
        "\n"
      ],
      "metadata": {
        "id": "nGrXJN0vk6Xr"
      }
    },
    {
      "cell_type": "code",
      "source": [
        "# Import the necessary libraries\n",
        "from google.colab import drive\n",
        "import glob\n",
        "import cv2\n",
        "import numpy as np\n",
        "import seaborn as sns\n",
        "import pandas as pd\n",
        "import matplotlib.pyplot as plt\n",
        "from sklearn.preprocessing import LabelEncoder\n",
        "from sklearn.model_selection import train_test_split\n",
        "from skimage.color import rgb2gray\n",
        "from skimage.feature import hog, local_binary_pattern as lbp\n",
        "from sklearn.svm import SVC\n",
        "from sklearn.decomposition import PCA\n",
        "from sklearn.metrics import classification_report, accuracy_score, confusion_matrix\n",
        "import tensorflow as tf\n",
        "from tensorflow.keras import layers, models\n",
        "from tensorflow.keras.callbacks import EarlyStopping\n",
        "\n",
        "# Suppress annoying warnings to avoid unnecessary clutter\n",
        "import warnings\n",
        "warnings.filterwarnings(\"ignore\")"
      ],
      "metadata": {
        "id": "mArGCDnyjrjF"
      },
      "execution_count": 202,
      "outputs": []
    },
    {
      "cell_type": "code",
      "execution_count": 203,
      "metadata": {
        "colab": {
          "base_uri": "https://localhost:8080/"
        },
        "id": "D_YrXr65VQ9y",
        "outputId": "fc0c5d6d-9e11-4ed4-b768-cdd9a6fb92d9"
      },
      "outputs": [
        {
          "output_type": "stream",
          "name": "stdout",
          "text": [
            "Drive already mounted at /content/drive; to attempt to forcibly remount, call drive.mount(\"/content/drive\", force_remount=True).\n"
          ]
        }
      ],
      "source": [
        "# Mount Google Drive for access to dataset\n",
        "drive.mount('/content/drive')"
      ]
    },
    {
      "cell_type": "code",
      "execution_count": null,
      "metadata": {
        "collapsed": true,
        "id": "o0MnRaN3VRXc"
      },
      "outputs": [],
      "source": [
        "# Unzips the zipped file to extract file contents\n",
        "!unzip /content/drive/MyDrive/dataset_42028assg1_24923029.zip -d /content/data/"
      ]
    },
    {
      "cell_type": "markdown",
      "metadata": {
        "id": "07PrHMoFrbld"
      },
      "source": [
        "# Data loading & preparation (Preprocessing)"
      ]
    },
    {
      "cell_type": "markdown",
      "metadata": {
        "id": "Zx8v1mKArWvd"
      },
      "source": [
        "Here I load in the dataset and extract images and their corresponding labels to separate lists using OpenCV for image processing and glob for file handling. This approach ensures the data can be easily processed and matched during the modelling training and testing phases."
      ]
    },
    {
      "cell_type": "code",
      "execution_count": 205,
      "metadata": {
        "id": "QnBkVFYScjpV"
      },
      "outputs": [],
      "source": [
        "# Defines path to the dataset. '*' matches any subdirectories in file as all will be used.\n",
        "path = '/content/data/*/*.jpg'\n",
        "\n",
        "# Initialises lists to store image and label data\n",
        "images = []\n",
        "labels = []\n",
        "\n",
        "# Loads the images\n",
        "for file in glob.glob(path):\n",
        "    img = cv2.imread(file) # Reads the images using OpenCV library\n",
        "    images.append(img) # Appends the loaded image to the images list\n",
        "\n",
        "# Saves the labels based on the folder names\n",
        "for file in glob.glob(path):\n",
        "    label = file.split('/') # Splits the file path by '/'\n",
        "    label = label[-2] # Isolates the 2nd last element in the file path as the label\n",
        "    labels.append(label) # Appends the label to the labels list\n",
        "\n",
        "# Converts the lists to numpy arrays\n",
        "X = np.array(images)\n",
        "y = np.array(labels)"
      ]
    },
    {
      "cell_type": "markdown",
      "metadata": {
        "id": "_Q2R8Dhft5Te"
      },
      "source": [
        "# Displaying data points for each category\n",
        "\n",
        "Although unnecessary, here I display an image for each mathematical symbol in the dataset to get a better idea of what we're working with. From the display, we can discern that the images are small in size  (due to the observable pixels)and are black and white."
      ]
    },
    {
      "cell_type": "code",
      "source": [
        "# Gets all unique labels in the y-array (labels list)\n",
        "unique_labels = list(set(y))\n",
        "\n",
        "# Initialises unique_images list to store a sample of each class of image\n",
        "unique_images = []\n",
        "\n",
        "# Loops over each unique label to find unique images\n",
        "for label in unique_labels:\n",
        "  for index in range(len(y)): # Loops through all labels in y\n",
        "    if y[index] == label: # Condition to find matching labels\n",
        "      unique_images.append(X[index]) # If a label matches, it will store the corresponding image from X to unique_images list\n",
        "      break # After finding the first match, loop will break to avoid storing multiple images from the same class\n",
        "\n",
        "# Creates row of subplots so images may be plotted side-by-side\n",
        "fig, axes = plt.subplots(1, len(unique_images), figsize=(20, 4))\n",
        "\n",
        "# Loops over each unique image and plots it with its corresponding label\n",
        "for i in range(len(unique_images)):\n",
        "    axes[i].imshow(unique_images[i])\n",
        "    axes[i].set_title(\"Class: \" + str(unique_labels[i]))\n",
        "    axes[i].axis('off')\n",
        "# Shows plot\n",
        "plt.show()"
      ],
      "metadata": {
        "colab": {
          "base_uri": "https://localhost:8080/",
          "height": 144
        },
        "id": "oJlE4E-FpY1L",
        "outputId": "73675f77-8672-403a-a372-6a458134a551"
      },
      "execution_count": 206,
      "outputs": [
        {
          "output_type": "display_data",
          "data": {
            "text/plain": [
              "<Figure size 2000x400 with 10 Axes>"
            ],
            "image/png": "[encoded data removed]"
          },
          "metadata": {}
        }
      ]
    },
    {
      "cell_type": "markdown",
      "metadata": {
        "id": "9JYx0lror7fh"
      },
      "source": [
        "# Test Train Split\n",
        "\n",
        "Test-train split allows for the model to be training on the majority of the data (80%) while the rest can be used as unseen data to evaluate the model's performances. A 80-20 split was chosen as it's standard for a small dataset that only consists of 5000 images. A random state of 42 was chosen for reproducibility. Stratifying the dataset on the target variable was tested, however it resulted in a decrease in the model's performances."
      ]
    },
    {
      "cell_type": "code",
      "execution_count": 207,
      "metadata": {
        "id": "msd8oo7Jcnku"
      },
      "outputs": [],
      "source": [
        "# Splits the datasets (X, y) into training and testing splits.\n",
        "# Test_size set to 0.2, meaning 20% of all the data will be allocated to the test data.\n",
        "# Random_state set to 42 for result reproducibility\n",
        "X_train, X_test, y_train, y_test = train_test_split(X, y, test_size=0.2, random_state=42)"
      ]
    },
    {
      "cell_type": "markdown",
      "metadata": {
        "id": "Go5ln8DswblQ"
      },
      "source": [
        "# Checking for imbalances in training dataset\n",
        "\n",
        "Here I check for any imbalances in the dataset, however it was found that the dataset was fairly balanced already, requiring no data augmentation."
      ]
    },
    {
      "cell_type": "code",
      "execution_count": 208,
      "metadata": {
        "colab": {
          "base_uri": "https://localhost:8080/",
          "height": 391
        },
        "id": "5vO9notYwim9",
        "outputId": "cf20b876-d48b-4643-88ff-34bda9b9f469"
      },
      "outputs": [
        {
          "output_type": "display_data",
          "data": {
            "text/plain": [
              "<Figure size 800x400 with 1 Axes>"
            ],
            "image/png": "[encoded data removed]"
          },
          "metadata": {}
        }
      ],
      "source": [
        "# Initialise empty dictionary to store class counts\n",
        "label_counts = {}\n",
        "\n",
        "# Loops over y_train to count the occurance of each label in the dataset\n",
        "for i in range(len(y_train)):\n",
        "    if y_train[i] in label_counts:\n",
        "        label_counts[y_train[i]] += 1 # If label has already been found and added to label_counts dictionary then it will increment the count of that label\n",
        "    else:\n",
        "        label_counts[y_train[i]] = 1 # If new label is found it will be added to the dictionary and count will be set to 1\n",
        "\n",
        "# Extracts keys and values (label and count) from the label_counts dictionary\n",
        "unique_labels = list(label_counts.keys())\n",
        "counts = list(label_counts.values())\n",
        "\n",
        "# Plots class distribution found in training set (80% of all data)\n",
        "plt.figure(figsize=(8, 4))\n",
        "sns.barplot(x=unique_labels, y=counts)\n",
        "plt.title('Class Distribution in Training Set')\n",
        "plt.show()"
      ]
    },
    {
      "cell_type": "markdown",
      "source": [
        "# Encoding label data for model training\n",
        "\n",
        "Using LabelEncoder() we convert the label data from categorical strings to integer labels. This was done because models like SVM and ANN cannot process categorical string labels direction, only numerical input. This was applied to both the training and testing set to ensure consistency."
      ],
      "metadata": {
        "id": "rjHJViunwnsR"
      }
    },
    {
      "cell_type": "code",
      "source": [
        "# Initialises the LabelEncoder object from sklearn.preprocessing library\n",
        "# LabelEncoder will convert categorical string labels in both training and test data labels to integer labels (i.e. pi --> 0, lim --> 1, cos --> 2, etc)\n",
        "encoder = LabelEncoder()\n",
        "y_train = encoder.fit_transform(y_train)\n",
        "y_test = encoder.transform(y_test)"
      ],
      "metadata": {
        "id": "dxx64HjUrN8e"
      },
      "execution_count": 209,
      "outputs": []
    },
    {
      "cell_type": "markdown",
      "metadata": {
        "id": "1NceAQ1mu4s-"
      },
      "source": [
        "# Normalisating data\n",
        "\n",
        "Normalising the data to ensure all of the input features are similar\n",
        "\n",
        "*(Normalising the data saw a 10% increase in accuracy for all ANN models using Raw Pixels)*"
      ]
    },
    {
      "cell_type": "code",
      "execution_count": 210,
      "metadata": {
        "id": "mhlLj-Rhu5XQ"
      },
      "outputs": [],
      "source": [
        "# Normalise pixel values in the training and test sets to the range [0, 1]\n",
        "X_train = X_train / 255.0\n",
        "X_test = X_test / 255.0"
      ]
    },
    {
      "cell_type": "markdown",
      "source": [
        "# Extracting features\n",
        "\n",
        "Here I extract the features using the skimage.feature library for easy feature extraction. I elected to use a library for that task as manually extracting the features resulted in a noticable decrease in accuracy for the ANN model."
      ],
      "metadata": {
        "id": "3yl0Y-1qCbNj"
      }
    },
    {
      "cell_type": "markdown",
      "metadata": {
        "id": "cbv7qBIUvVXW"
      },
      "source": [
        "## Reshaping image data for model compatibility\n",
        "\n",
        "Reshaping the data from 3D to 2D arrays by flattening the images to get the raw pixels. This is necessary as the models require 2D inputs."
      ]
    },
    {
      "cell_type": "code",
      "execution_count": 211,
      "metadata": {
        "id": "CkTEl-SavV2r"
      },
      "outputs": [],
      "source": [
        "# Reshape training data into 2D arrays\n",
        "X_train_raw = X_train.reshape(X_train.shape[0], -1)\n",
        "X_test_raw = X_test.reshape(X_test.shape[0], -1)"
      ]
    },
    {
      "cell_type": "markdown",
      "metadata": {
        "id": "3M2pMwZHvink"
      },
      "source": [
        "### Extracting Histogram over gradient features from images\n",
        "\n",
        "Here I extract the Histogram of Oriented Gradients (HOG) using the hog() and rgb2gray () methods from the images for training.  HOG is useful for capturing edge and gradient information which assists models to recognise shapes and patterns."
      ]
    },
    {
      "cell_type": "code",
      "execution_count": 212,
      "metadata": {
        "colab": {
          "base_uri": "https://localhost:8080/"
        },
        "id": "x-6dgOker04m",
        "outputId": "b35563f8-3abc-49a7-bac5-7a003f0b0476"
      },
      "outputs": [
        {
          "output_type": "stream",
          "name": "stdout",
          "text": [
            "HOG Feature shape (Train): (4000, 729)\n",
            "HOG Feature shape (Test): (1000, 729)\n"
          ]
        }
      ],
      "source": [
        "# Initialises empty lists to store HOG features for training and test data\n",
        "X_train_hog = []\n",
        "X_test_hog = []\n",
        "\n",
        "# Loops through training images to extract HOG features\n",
        "for i in X_train:\n",
        "  X_train_hog.append(hog(rgb2gray(i))) # Appends converted 3D tensor to 2D grayscale image HOG features to X_train_hog list.\n",
        "X_train_hog = np.array(X_train_hog) # After loop finishes, convert list to a numpy array\n",
        "\n",
        "# Loops through testing images to extract HOG features\n",
        "for i in X_test:\n",
        "  X_test_hog.append(hog(rgb2gray(i))) # Appends HOG features to X_train_hog list\n",
        "X_test_hog = np.array(X_test_hog) # After loop finishes, convert list to a numpy array\n",
        "\n",
        "# Prints numpy array shape for training and testing data\n",
        "print(f\"HOG Feature shape (Train): {X_train_hog.shape}\")\n",
        "print(f\"HOG Feature shape (Test): {X_test_hog.shape}\")"
      ]
    },
    {
      "cell_type": "markdown",
      "metadata": {
        "id": "cu4h2YJjvr9L"
      },
      "source": [
        "### Extracting Local Binary Pattern features from images\n",
        "\n",
        "Here I extract the Local Binary Pattern (LBP) using the lbp() and rgb2gray () methods from the images for training. It computes the LBP features based on the pixel intensity differences and then flattens them into 1D vectors using flatten(). LBP is useful for capturing texture information which assists models to recognise textures and patterns."
      ]
    },
    {
      "cell_type": "code",
      "execution_count": 213,
      "metadata": {
        "colab": {
          "base_uri": "https://localhost:8080/"
        },
        "id": "jnQDDtBIr1RH",
        "outputId": "a8ac7b6b-2b87-40f8-c4c8-1969ee87494e"
      },
      "outputs": [
        {
          "output_type": "stream",
          "name": "stdout",
          "text": [
            "LBP Feature shape (Train): (4000, 2025)\n",
            "LBP Feature shape (Test): (1000, 2025)\n"
          ]
        }
      ],
      "source": [
        "# Initialises empty lists to store LBP features for training and test data\n",
        "X_train_lbp = []\n",
        "X_test_lbp = []\n",
        "\n",
        "# Loops through training images to extract LBP features\n",
        "for i in X_train:\n",
        "  X_train_lbp.append(lbp(rgb2gray(i), P=8, R=1, method='uniform').flatten()) # Appends converted 3D tensor to 1D vector (via flatten()) LBP features to X_train_lbp list.\n",
        "X_train_lbp = np.array(X_train_lbp)\n",
        "\n",
        "# Loops through testing images to extract LBP features\n",
        "for i in X_test:\n",
        "  X_test_lbp.append(lbp(rgb2gray(i), P=8, R=1, method='uniform').flatten()) # Appends converted 3D tensor to 1D vector (via flatten()) LBP features to X_test_lbp list.\n",
        "X_test_lbp = np.array(X_test_lbp)\n",
        "\n",
        "# Prints numpy array shape for training and testing data\n",
        "print(f\"LBP Feature shape (Train): {X_train_lbp.shape}\")\n",
        "print(f\"LBP Feature shape (Test): {X_test_lbp.shape}\")"
      ]
    },
    {
      "cell_type": "markdown",
      "metadata": {
        "id": "GIrRNIOhsBj_"
      },
      "source": [
        "### Dimensionality Reduction (PCA)\n",
        "\n",
        "PCA (Principal Component Analysis) is a dimensionality reduction technique that can help reduce noise from the data. After testing it was found that reducing the principle components to 50 yielded the best results."
      ]
    },
    {
      "cell_type": "code",
      "source": [
        "# Initialises PCA and sets number of components to keep to top 50 principle components\n",
        "pca = PCA(n_components=50)\n",
        "\n",
        "# Applies PCA to Raw Pixels, HOG features and LBP features for dimensionality reduction.\n",
        "X_train_raw = pca.fit_transform(X_train_raw)\n",
        "X_test_raw = pca.transform(X_test_raw)\n",
        "X_train_hog = pca.fit_transform(X_train_hog)\n",
        "X_test_hog = pca.transform(X_test_hog)\n",
        "X_train_lbp = pca.fit_transform(X_train_lbp)\n",
        "X_test_lbp = pca.transform(X_test_lbp)"
      ],
      "metadata": {
        "id": "q4kbg5ayLJ-h"
      },
      "execution_count": 214,
      "outputs": []
    },
    {
      "cell_type": "markdown",
      "source": [
        "# Creating SVM Model\n",
        "\n",
        "This function trains an SVM (Supported Vector Machine) model that can be called for multiple feature types (Raw pixels, HOG, LBP). It evaluates the performance on the test data and produces a classification report as well as a confusion matrix to see where the correct and incorrect predictions are."
      ],
      "metadata": {
        "id": "ygh3g3_sDXOX"
      }
    },
    {
      "cell_type": "code",
      "execution_count": 215,
      "metadata": {
        "id": "M5pL-oS2cyUH"
      },
      "outputs": [],
      "source": [
        "# Declares method to take in training and testing data for SVM model training and evaluation.\n",
        "def train_svm(X_train, y_train, X_test, y_test):\n",
        "    SVM_model = SVC(C=10) # Initialises SVM model and sets C=10 (regularisation paramater)\n",
        "    SVM_model.fit(X_train, y_train) # Fits model on training data\n",
        "    y_pred = SVM_model.predict(X_test) # Make predictions using the model on test data\n",
        "    accuracy = accuracy_score(y_test, y_pred) # Calculate model accuracy\n",
        "    report = classification_report(y_test, y_pred) # Generates classification report\n",
        "    cmat = confusion_matrix(y_test, y_pred) # Generates confusion matrix\n",
        "    return SVM_model, accuracy, report, cmat # Returns the model, accuracy, classification report and confusion matrix"
      ]
    },
    {
      "cell_type": "markdown",
      "metadata": {
        "id": "QhQ75unssEsO"
      },
      "source": [
        "# Creating ANN Model\n",
        "\n",
        "This fucking trains an ANN (Artificial Neural Network) model that can be called for multiple feature types (Raw pixels, HOG, LBP). The model consists of three dense layers with ReLU activation and the output layer uses softmax to produce class probabilities. The model is compiled with the Adam optimiser and a learning rate of 0.0001 with a sparse categorical crossentropy loss function to improve model convergence and a batch size of 64 over 40 epochs.\n",
        "\n",
        "**Layers**\n",
        "Using a pyramid structure while progressively reducing the number of neurons helps the model capture the high-level features early then refines them.\n",
        "\n",
        "**ReLU**\n",
        "ReLU activation was chosen to introduce non-linearity to help the model learn complex patters.\n",
        "\n",
        "**Softmax**\n",
        "Softmax activation function converts the raw logits into probabilities across the multiple classes. It also ensure the probabilities add up to 1 which is ideal for multi-class classification problems.\n",
        "\n",
        "**Adam**\n",
        "The Adam optimiser adapts the learning rate during training which has been known to lead to a more stable convergence. It's suitable for image data because it's ideal for handling noisy gradients which is common for image data.\n",
        "\n",
        "**Learning Rate**\n",
        "A small learning rate of 0.0001 allows the model to learn at a slow rate so the model can converge smoothly without overshooting during training.\n",
        "\n",
        "**Loss function**\n",
        "Ideal for integer-encoded multi-class classification problems. Measures the difference between the true and predicted probability distribution.\n",
        "\n",
        "**Batch size**\n",
        "Set to 64 to balance the training speed and generalisation of the model.\n",
        "\n",
        "**Validation**\n",
        "20% of the training data was set to validate the model to help monitor the performance during training.\n",
        "\n",
        "**Epochs**\n",
        "Epochs was set to 40 to give the model enough time to learn the complex patterns while minimising overfitting.\n",
        "\n",
        "It evaluates the performance on the test data and produces a classification report as well as a confusion matrix to see where the correct and incorrect predictions are."
      ]
    },
    {
      "cell_type": "code",
      "execution_count": 216,
      "metadata": {
        "id": "OnvkaaMVdc9v"
      },
      "outputs": [],
      "source": [
        "# Declares method to take in training and testing data for ANN model training and evaluation.\n",
        "def train_ann(X_train, y_train, X_test, y_test):\n",
        "    model = models.Sequential() # Initialises a sequential model (layer architecture)\n",
        "    model.add(layers.Input(shape=(X_train.shape[1],))) # Sets input size to the number of features in the training data\n",
        "    model.add(layers.Dense(256, activation='relu')) # Adds first hidden layer with 256 neurons with ReLU activation\n",
        "    model.add(layers.Dense(128, activation='relu')) # Adds second hidden layer with 128 neurons with ReLU activation\n",
        "    model.add(layers.Dense(64, activation='relu')) # Adds third hidden layer with 64 neurons with ReLU activation\n",
        "    model.add(layers.Dense(len(encoder.classes_), activation='softmax')) # Adds output layer with the number of units set to the number of unique classes. Activation set to 'softmax' to convert raw output into class probabilities.\n",
        "\n",
        "    # Compiles the model using the Adam optimiser. Learning rate set to 0.0001. Loss set to 'sparse_categorical_crossentropy' (good for integer class labels). Performance tracking metric set to 'accuracy'.\n",
        "    model.compile(optimizer=tf.keras.optimizers.Adam(learning_rate=0.0001),\n",
        "                  loss='sparse_categorical_crossentropy',\n",
        "                  metrics=['accuracy'])\n",
        "\n",
        "    # Trains the model a batch size of 64 and a validation split of 0.2 (reserving 20% of the training data for validation) for 40 epochs.\n",
        "    history = model.fit(X_train, y_train, epochs=40, batch_size=64,\n",
        "                        validation_split=0.2)\n",
        "    # Evaluates the model and returns loss and accuracy\n",
        "    loss, accuracy = model.evaluate(X_test, y_test)\n",
        "    # Predicts class probabilities\n",
        "    y_pred = np.argmax(model.predict(X_test), axis=-1) # np.argmax selects the class with the highest probability for each sample\n",
        "    report = classification_report(y_test, y_pred) # Generates classification report\n",
        "    cmat = confusion_matrix(y_test, y_pred) # Generates confusion matrix\n",
        "\n",
        "    return model, accuracy, report, cmat # Returns trained model, accuracy, classification report and confusion matrix"
      ]
    },
    {
      "cell_type": "markdown",
      "metadata": {
        "id": "i8jzKlYttwsf"
      },
      "source": [
        "# Training and testing models"
      ]
    },
    {
      "cell_type": "markdown",
      "metadata": {
        "id": "s9eNZQNOv1Rw"
      },
      "source": [
        "### SVM Model training & testing\n",
        "\n",
        "The code utilises the train_svm method to train models on the difference features. It then prints the accuracy, classification report and confusion matrix."
      ]
    },
    {
      "cell_type": "code",
      "execution_count": 217,
      "metadata": {
        "id": "zr10yEJNtzuV",
        "colab": {
          "base_uri": "https://localhost:8080/",
          "height": 1000
        },
        "outputId": "efd73724-5f2b-4667-931b-c6be74158a39",
        "collapsed": true
      },
      "outputs": [
        {
          "output_type": "stream",
          "name": "stdout",
          "text": [
            "SVM Raw Pixels Accuracy: 95.40\n",
            "SVM Raw Pixels Classification Report:\n",
            "               precision    recall  f1-score   support\n",
            "\n",
            "           0       0.99      1.00      0.99        94\n",
            "           1       0.96      0.96      0.96        98\n",
            "           2       0.88      0.94      0.91       111\n",
            "           3       0.88      0.90      0.89        81\n",
            "           4       0.92      0.92      0.92       105\n",
            "           5       0.95      0.91      0.93        85\n",
            "           6       1.00      0.99      1.00       105\n",
            "           7       0.99      0.97      0.98       112\n",
            "           8       0.99      1.00      1.00       111\n",
            "           9       0.97      0.93      0.95        98\n",
            "\n",
            "    accuracy                           0.95      1000\n",
            "   macro avg       0.95      0.95      0.95      1000\n",
            "weighted avg       0.95      0.95      0.95      1000\n",
            "\n",
            "SVM Raw Pixels Confusion Matrix:\n"
          ]
        },
        {
          "output_type": "display_data",
          "data": {
            "text/plain": [
              "array([[ 94,   0,   0,   0,   0,   0,   0,   0,   0,   0],\n",
              "       [  1,  94,   0,   1,   0,   0,   0,   1,   0,   1],\n",
              "       [  0,   0, 104,   1,   3,   3,   0,   0,   0,   0],\n",
              "       [  0,   1,   6,  73,   0,   1,   0,   0,   0,   0],\n",
              "       [  0,   1,   3,   3,  97,   0,   0,   0,   0,   1],\n",
              "       [  0,   0,   4,   1,   2,  77,   0,   0,   0,   1],\n",
              "       [  0,   0,   0,   0,   0,   0, 104,   0,   1,   0],\n",
              "       [  0,   2,   0,   0,   1,   0,   0, 109,   0,   0],\n",
              "       [  0,   0,   0,   0,   0,   0,   0,   0, 111,   0],\n",
              "       [  0,   0,   1,   4,   2,   0,   0,   0,   0,  91]])"
            ]
          },
          "metadata": {}
        },
        {
          "output_type": "stream",
          "name": "stdout",
          "text": [
            "\n",
            "------------------------------------------------------\n",
            "\n",
            "SVM HOG Features Accuracy: 98.00\n",
            "SVM HOG Features Classification Report:\n",
            "               precision    recall  f1-score   support\n",
            "\n",
            "           0       0.98      1.00      0.99        94\n",
            "           1       1.00      0.99      0.99        98\n",
            "           2       0.99      0.93      0.96       111\n",
            "           3       0.93      0.99      0.96        81\n",
            "           4       0.98      0.95      0.97       105\n",
            "           5       0.92      0.95      0.94        85\n",
            "           6       1.00      1.00      1.00       105\n",
            "           7       1.00      1.00      1.00       112\n",
            "           8       1.00      1.00      1.00       111\n",
            "           9       0.98      0.99      0.98        98\n",
            "\n",
            "    accuracy                           0.98      1000\n",
            "   macro avg       0.98      0.98      0.98      1000\n",
            "weighted avg       0.98      0.98      0.98      1000\n",
            "\n",
            "SVM HOG Features Confusion Matrix:\n"
          ]
        },
        {
          "output_type": "display_data",
          "data": {
            "text/plain": [
              "array([[ 94,   0,   0,   0,   0,   0,   0,   0,   0,   0],\n",
              "       [  0,  97,   0,   1,   0,   0,   0,   0,   0,   0],\n",
              "       [  0,   0, 103,   2,   0,   6,   0,   0,   0,   0],\n",
              "       [  0,   0,   0,  80,   0,   1,   0,   0,   0,   0],\n",
              "       [  2,   0,   0,   2, 100,   0,   0,   0,   0,   1],\n",
              "       [  0,   0,   1,   0,   2,  81,   0,   0,   0,   1],\n",
              "       [  0,   0,   0,   0,   0,   0, 105,   0,   0,   0],\n",
              "       [  0,   0,   0,   0,   0,   0,   0, 112,   0,   0],\n",
              "       [  0,   0,   0,   0,   0,   0,   0,   0, 111,   0],\n",
              "       [  0,   0,   0,   1,   0,   0,   0,   0,   0,  97]])"
            ]
          },
          "metadata": {}
        },
        {
          "output_type": "stream",
          "name": "stdout",
          "text": [
            "\n",
            "------------------------------------------------------\n",
            "\n",
            "SVM LBP Features Accuracy: 93.30\n",
            "SVM LBP Features Classification Report:\n",
            "               precision    recall  f1-score   support\n",
            "\n",
            "           0       1.00      0.99      0.99        94\n",
            "           1       0.94      0.95      0.94        98\n",
            "           2       0.89      0.84      0.86       111\n",
            "           3       0.90      0.85      0.87        81\n",
            "           4       0.91      0.91      0.91       105\n",
            "           5       0.83      0.87      0.85        85\n",
            "           6       0.99      0.97      0.98       105\n",
            "           7       0.98      0.96      0.97       112\n",
            "           8       0.96      0.99      0.98       111\n",
            "           9       0.90      0.97      0.94        98\n",
            "\n",
            "    accuracy                           0.93      1000\n",
            "   macro avg       0.93      0.93      0.93      1000\n",
            "weighted avg       0.93      0.93      0.93      1000\n",
            "\n",
            "SVM LBP Features Confusion Matrix:\n"
          ]
        },
        {
          "output_type": "display_data",
          "data": {
            "text/plain": [
              "array([[ 93,   1,   0,   0,   0,   0,   0,   0,   0,   0],\n",
              "       [  0,  93,   0,   2,   0,   0,   0,   2,   1,   0],\n",
              "       [  0,   0,  93,   4,   7,   7,   0,   0,   0,   0],\n",
              "       [  0,   2,   2,  69,   0,   6,   0,   0,   0,   2],\n",
              "       [  0,   0,   2,   0,  96,   0,   0,   0,   0,   7],\n",
              "       [  0,   0,   8,   1,   1,  74,   0,   0,   0,   1],\n",
              "       [  0,   0,   0,   0,   0,   0, 102,   0,   3,   0],\n",
              "       [  0,   3,   0,   0,   1,   0,   0, 108,   0,   0],\n",
              "       [  0,   0,   0,   0,   0,   0,   1,   0, 110,   0],\n",
              "       [  0,   0,   0,   1,   0,   2,   0,   0,   0,  95]])"
            ]
          },
          "metadata": {}
        }
      ],
      "source": [
        "# Trains SVM on Raw Pixel features\n",
        "model_svm_raw, accuracy_svm_raw, report_svm_raw, cmat_svm_raw = train_svm(X_train_raw, y_train, X_test_raw, y_test)\n",
        "print(f\"SVM Raw Pixels Accuracy: {accuracy_svm_raw * 100:.2f}\") # Prints accuracy\n",
        "print(\"SVM Raw Pixels Classification Report:\\n\", report_svm_raw) # Prints classification report\n",
        "print(\"SVM Raw Pixels Confusion Matrix:\")\n",
        "display(cmat_svm_raw) # Displays confusion matrix\n",
        "print(\"\\n------------------------------------------------------\\n\")\n",
        "# Trains SVM on HOG features\n",
        "model_svm_hog, accuracy_svm_hog, report_svm_hog, cmat_svm_hog = train_svm(X_train_hog, y_train, X_test_hog, y_test)\n",
        "print(f\"SVM HOG Features Accuracy: {accuracy_svm_hog * 100:.2f}\") # Prints accuracy\n",
        "print(\"SVM HOG Features Classification Report:\\n\", report_svm_hog) # Prints classification report\n",
        "print(\"SVM HOG Features Confusion Matrix:\")\n",
        "display(cmat_svm_hog) # Displays confusion matrix\n",
        "print(\"\\n------------------------------------------------------\\n\")\n",
        "# Trains SVM on LBP features\n",
        "model_svm_lbp, accuracy_svm_lbp, report_svm_lbp, cmat_svm_lbp = train_svm(X_train_lbp, y_train, X_test_lbp, y_test)\n",
        "print(f\"SVM LBP Features Accuracy: {accuracy_svm_lbp * 100:.2f}\") # Prints accuracy\n",
        "print(\"SVM LBP Features Classification Report:\\n\", report_svm_lbp) # Prints classification report\n",
        "print(\"SVM LBP Features Confusion Matrix:\")\n",
        "display(cmat_svm_lbp) # Displays confusion matrix"
      ]
    },
    {
      "cell_type": "markdown",
      "source": [
        "Creates an easy to read pandas dataframe to compare the feature types and their respective accuracies."
      ],
      "metadata": {
        "id": "uHbxJhLEQpa9"
      }
    },
    {
      "cell_type": "code",
      "source": [
        "# Create a pandas dataframe to store accuracies of SVM models based on features used\n",
        "results_svm = pd.DataFrame({\n",
        "    'Feature Type': ['Raw Pixels', 'HOG', 'LBP'],\n",
        "    'SVM Accuracy (%)': [accuracy_svm_raw * 100, accuracy_svm_hog * 100, accuracy_svm_lbp * 100]\n",
        "})\n",
        "\n",
        "# Prints dataframe\n",
        "print(results_svm)"
      ],
      "metadata": {
        "colab": {
          "base_uri": "https://localhost:8080/"
        },
        "id": "E5G_Enk1U1D3",
        "outputId": "e258a4e7-da31-46b9-b868-33e9d2f02759"
      },
      "execution_count": 218,
      "outputs": [
        {
          "output_type": "stream",
          "name": "stdout",
          "text": [
            "  Feature Type  SVM Accuracy (%)\n",
            "0   Raw Pixels              95.4\n",
            "1          HOG              98.0\n",
            "2          LBP              93.3\n"
          ]
        }
      ]
    },
    {
      "cell_type": "markdown",
      "metadata": {
        "id": "uV1IF7Pyv8dO"
      },
      "source": [
        "### Training ANN models\n",
        "\n",
        "The code utilises the train_ann method to train models on the difference features. It then prints the accuracy, classification report and confusion matrix."
      ]
    },
    {
      "cell_type": "code",
      "execution_count": 219,
      "metadata": {
        "collapsed": true,
        "id": "CmL9KiGSuVjW",
        "colab": {
          "base_uri": "https://localhost:8080/",
          "height": 1000
        },
        "outputId": "7224cb65-8774-4d0f-ba1c-e4f7883e5b29"
      },
      "outputs": [
        {
          "output_type": "stream",
          "name": "stdout",
          "text": [
            "Epoch 1/40\n",
            "\u001b[1m50/50\u001b[0m \u001b[32m━━━━━━━━━━━━━━━━━━━━\u001b[0m\u001b[37m\u001b[0m \u001b[1m2s\u001b[0m 11ms/step - accuracy: 0.1656 - loss: 2.2649 - val_accuracy: 0.3688 - val_loss: 2.0162\n",
            "Epoch 2/40\n",
            "\u001b[1m50/50\u001b[0m \u001b[32m━━━━━━━━━━━━━━━━━━━━\u001b[0m\u001b[37m\u001b[0m \u001b[1m0s\u001b[0m 5ms/step - accuracy: 0.4525 - loss: 1.9156 - val_accuracy: 0.5813 - val_loss: 1.6983\n",
            "Epoch 3/40\n",
            "\u001b[1m50/50\u001b[0m \u001b[32m━━━━━━━━━━━━━━━━━━━━\u001b[0m\u001b[37m\u001b[0m \u001b[1m0s\u001b[0m 5ms/step - accuracy: 0.6713 - loss: 1.5611 - val_accuracy: 0.6700 - val_loss: 1.3643\n",
            "Epoch 4/40\n",
            "\u001b[1m50/50\u001b[0m \u001b[32m━━━━━━━━━━━━━━━━━━━━\u001b[0m\u001b[37m\u001b[0m \u001b[1m0s\u001b[0m 5ms/step - accuracy: 0.7574 - loss: 1.2263 - val_accuracy: 0.7350 - val_loss: 1.0768\n",
            "Epoch 5/40\n",
            "\u001b[1m50/50\u001b[0m \u001b[32m━━━━━━━━━━━━━━━━━━━━\u001b[0m\u001b[37m\u001b[0m \u001b[1m1s\u001b[0m 10ms/step - accuracy: 0.8104 - loss: 0.9316 - val_accuracy: 0.7725 - val_loss: 0.8771\n",
            "Epoch 6/40\n",
            "\u001b[1m50/50\u001b[0m \u001b[32m━━━━━━━━━━━━━━━━━━━━\u001b[0m\u001b[37m\u001b[0m \u001b[1m1s\u001b[0m 10ms/step - accuracy: 0.8459 - loss: 0.7456 - val_accuracy: 0.8012 - val_loss: 0.7441\n",
            "Epoch 7/40\n",
            "\u001b[1m50/50\u001b[0m \u001b[32m━━━━━━━━━━━━━━━━━━━━\u001b[0m\u001b[37m\u001b[0m \u001b[1m1s\u001b[0m 10ms/step - accuracy: 0.8563 - loss: 0.6187 - val_accuracy: 0.8175 - val_loss: 0.6496\n",
            "Epoch 8/40\n",
            "\u001b[1m50/50\u001b[0m \u001b[32m━━━━━━━━━━━━━━━━━━━━\u001b[0m\u001b[37m\u001b[0m \u001b[1m1s\u001b[0m 10ms/step - accuracy: 0.8608 - loss: 0.5436 - val_accuracy: 0.8225 - val_loss: 0.5836\n",
            "Epoch 9/40\n",
            "\u001b[1m50/50\u001b[0m \u001b[32m━━━━━━━━━━━━━━━━━━━━\u001b[0m\u001b[37m\u001b[0m \u001b[1m1s\u001b[0m 10ms/step - accuracy: 0.8850 - loss: 0.4614 - val_accuracy: 0.8325 - val_loss: 0.5280\n",
            "Epoch 10/40\n",
            "\u001b[1m50/50\u001b[0m \u001b[32m━━━━━━━━━━━━━━━━━━━━\u001b[0m\u001b[37m\u001b[0m \u001b[1m0s\u001b[0m 6ms/step - accuracy: 0.8960 - loss: 0.4065 - val_accuracy: 0.8388 - val_loss: 0.4876\n",
            "Epoch 11/40\n",
            "\u001b[1m50/50\u001b[0m \u001b[32m━━━━━━━━━━━━━━━━━━━━\u001b[0m\u001b[37m\u001b[0m \u001b[1m1s\u001b[0m 6ms/step - accuracy: 0.9110 - loss: 0.3617 - val_accuracy: 0.8487 - val_loss: 0.4525\n",
            "Epoch 12/40\n",
            "\u001b[1m50/50\u001b[0m \u001b[32m━━━━━━━━━━━━━━━━━━━━\u001b[0m\u001b[37m\u001b[0m \u001b[1m0s\u001b[0m 6ms/step - accuracy: 0.9076 - loss: 0.3537 - val_accuracy: 0.8675 - val_loss: 0.4199\n",
            "Epoch 13/40\n",
            "\u001b[1m50/50\u001b[0m \u001b[32m━━━━━━━━━━━━━━━━━━━━\u001b[0m\u001b[37m\u001b[0m \u001b[1m1s\u001b[0m 6ms/step - accuracy: 0.9223 - loss: 0.3077 - val_accuracy: 0.8712 - val_loss: 0.3961\n",
            "Epoch 14/40\n",
            "\u001b[1m50/50\u001b[0m \u001b[32m━━━━━━━━━━━━━━━━━━━━\u001b[0m\u001b[37m\u001b[0m \u001b[1m1s\u001b[0m 5ms/step - accuracy: 0.9313 - loss: 0.2747 - val_accuracy: 0.8850 - val_loss: 0.3744\n",
            "Epoch 15/40\n",
            "\u001b[1m50/50\u001b[0m \u001b[32m━━━━━━━━━━━━━━━━━━━━\u001b[0m\u001b[37m\u001b[0m \u001b[1m0s\u001b[0m 5ms/step - accuracy: 0.9389 - loss: 0.2527 - val_accuracy: 0.8788 - val_loss: 0.3578\n",
            "Epoch 16/40\n",
            "\u001b[1m50/50\u001b[0m \u001b[32m━━━━━━━━━━━━━━━━━━━━\u001b[0m\u001b[37m\u001b[0m \u001b[1m0s\u001b[0m 6ms/step - accuracy: 0.9307 - loss: 0.2528 - val_accuracy: 0.8875 - val_loss: 0.3437\n",
            "Epoch 17/40\n",
            "\u001b[1m50/50\u001b[0m \u001b[32m━━━━━━━━━━━━━━━━━━━━\u001b[0m\u001b[37m\u001b[0m \u001b[1m0s\u001b[0m 5ms/step - accuracy: 0.9407 - loss: 0.2315 - val_accuracy: 0.8975 - val_loss: 0.3298\n",
            "Epoch 18/40\n",
            "\u001b[1m50/50\u001b[0m \u001b[32m━━━━━━━━━━━━━━━━━━━━\u001b[0m\u001b[37m\u001b[0m \u001b[1m0s\u001b[0m 5ms/step - accuracy: 0.9546 - loss: 0.2132 - val_accuracy: 0.8975 - val_loss: 0.3218\n",
            "Epoch 19/40\n",
            "\u001b[1m50/50\u001b[0m \u001b[32m━━━━━━━━━━━━━━━━━━━━\u001b[0m\u001b[37m\u001b[0m \u001b[1m0s\u001b[0m 5ms/step - accuracy: 0.9525 - loss: 0.1927 - val_accuracy: 0.9000 - val_loss: 0.3088\n",
            "Epoch 20/40\n",
            "\u001b[1m50/50\u001b[0m \u001b[32m━━━━━━━━━━━━━━━━━━━━\u001b[0m\u001b[37m\u001b[0m \u001b[1m1s\u001b[0m 6ms/step - accuracy: 0.9587 - loss: 0.1846 - val_accuracy: 0.9013 - val_loss: 0.3010\n",
            "Epoch 21/40\n",
            "\u001b[1m50/50\u001b[0m \u001b[32m━━━━━━━━━━━━━━━━━━━━\u001b[0m\u001b[37m\u001b[0m \u001b[1m0s\u001b[0m 6ms/step - accuracy: 0.9664 - loss: 0.1634 - val_accuracy: 0.9025 - val_loss: 0.2866\n",
            "Epoch 22/40\n",
            "\u001b[1m50/50\u001b[0m \u001b[32m━━━━━━━━━━━━━━━━━━━━\u001b[0m\u001b[37m\u001b[0m \u001b[1m1s\u001b[0m 5ms/step - accuracy: 0.9663 - loss: 0.1513 - val_accuracy: 0.9062 - val_loss: 0.2839\n",
            "Epoch 23/40\n",
            "\u001b[1m50/50\u001b[0m \u001b[32m━━━━━━━━━━━━━━━━━━━━\u001b[0m\u001b[37m\u001b[0m \u001b[1m0s\u001b[0m 6ms/step - accuracy: 0.9715 - loss: 0.1453 - val_accuracy: 0.9062 - val_loss: 0.2739\n",
            "Epoch 24/40\n",
            "\u001b[1m50/50\u001b[0m \u001b[32m━━━━━━━━━━━━━━━━━━━━\u001b[0m\u001b[37m\u001b[0m \u001b[1m0s\u001b[0m 6ms/step - accuracy: 0.9699 - loss: 0.1405 - val_accuracy: 0.9137 - val_loss: 0.2676\n",
            "Epoch 25/40\n",
            "\u001b[1m50/50\u001b[0m \u001b[32m━━━━━━━━━━━━━━━━━━━━\u001b[0m\u001b[37m\u001b[0m \u001b[1m0s\u001b[0m 6ms/step - accuracy: 0.9700 - loss: 0.1350 - val_accuracy: 0.9125 - val_loss: 0.2607\n",
            "Epoch 26/40\n",
            "\u001b[1m50/50\u001b[0m \u001b[32m━━━━━━━━━━━━━━━━━━━━\u001b[0m\u001b[37m\u001b[0m \u001b[1m0s\u001b[0m 5ms/step - accuracy: 0.9704 - loss: 0.1275 - val_accuracy: 0.9087 - val_loss: 0.2564\n",
            "Epoch 27/40\n",
            "\u001b[1m50/50\u001b[0m \u001b[32m━━━━━━━━━━━━━━━━━━━━\u001b[0m\u001b[37m\u001b[0m \u001b[1m0s\u001b[0m 6ms/step - accuracy: 0.9788 - loss: 0.1140 - val_accuracy: 0.9150 - val_loss: 0.2536\n",
            "Epoch 28/40\n",
            "\u001b[1m50/50\u001b[0m \u001b[32m━━━━━━━━━━━━━━━━━━━━\u001b[0m\u001b[37m\u001b[0m \u001b[1m0s\u001b[0m 6ms/step - accuracy: 0.9782 - loss: 0.1149 - val_accuracy: 0.9187 - val_loss: 0.2502\n",
            "Epoch 29/40\n",
            "\u001b[1m50/50\u001b[0m \u001b[32m━━━━━━━━━━━━━━━━━━━━\u001b[0m\u001b[37m\u001b[0m \u001b[1m0s\u001b[0m 5ms/step - accuracy: 0.9814 - loss: 0.1064 - val_accuracy: 0.9225 - val_loss: 0.2440\n",
            "Epoch 30/40\n",
            "\u001b[1m50/50\u001b[0m \u001b[32m━━━━━━━━━━━━━━━━━━━━\u001b[0m\u001b[37m\u001b[0m \u001b[1m0s\u001b[0m 6ms/step - accuracy: 0.9796 - loss: 0.1028 - val_accuracy: 0.9212 - val_loss: 0.2378\n",
            "Epoch 31/40\n",
            "\u001b[1m50/50\u001b[0m \u001b[32m━━━━━━━━━━━━━━━━━━━━\u001b[0m\u001b[37m\u001b[0m \u001b[1m1s\u001b[0m 5ms/step - accuracy: 0.9822 - loss: 0.0935 - val_accuracy: 0.9225 - val_loss: 0.2347\n",
            "Epoch 32/40\n",
            "\u001b[1m50/50\u001b[0m \u001b[32m━━━━━━━━━━━━━━━━━━━━\u001b[0m\u001b[37m\u001b[0m \u001b[1m0s\u001b[0m 6ms/step - accuracy: 0.9869 - loss: 0.0905 - val_accuracy: 0.9237 - val_loss: 0.2334\n",
            "Epoch 33/40\n",
            "\u001b[1m50/50\u001b[0m \u001b[32m━━━━━━━━━━━━━━━━━━━━\u001b[0m\u001b[37m\u001b[0m \u001b[1m0s\u001b[0m 6ms/step - accuracy: 0.9889 - loss: 0.0876 - val_accuracy: 0.9200 - val_loss: 0.2299\n",
            "Epoch 34/40\n",
            "\u001b[1m50/50\u001b[0m \u001b[32m━━━━━━━━━━━━━━━━━━━━\u001b[0m\u001b[37m\u001b[0m \u001b[1m1s\u001b[0m 5ms/step - accuracy: 0.9836 - loss: 0.0885 - val_accuracy: 0.9187 - val_loss: 0.2272\n",
            "Epoch 35/40\n",
            "\u001b[1m50/50\u001b[0m \u001b[32m━━━━━━━━━━━━━━━━━━━━\u001b[0m\u001b[37m\u001b[0m \u001b[1m0s\u001b[0m 7ms/step - accuracy: 0.9882 - loss: 0.0793 - val_accuracy: 0.9212 - val_loss: 0.2268\n",
            "Epoch 36/40\n",
            "\u001b[1m50/50\u001b[0m \u001b[32m━━━━━━━━━━━━━━━━━━━━\u001b[0m\u001b[37m\u001b[0m \u001b[1m1s\u001b[0m 10ms/step - accuracy: 0.9887 - loss: 0.0800 - val_accuracy: 0.9225 - val_loss: 0.2222\n",
            "Epoch 37/40\n",
            "\u001b[1m50/50\u001b[0m \u001b[32m━━━━━━━━━━━━━━━━━━━━\u001b[0m\u001b[37m\u001b[0m \u001b[1m1s\u001b[0m 10ms/step - accuracy: 0.9905 - loss: 0.0727 - val_accuracy: 0.9225 - val_loss: 0.2193\n",
            "Epoch 38/40\n",
            "\u001b[1m50/50\u001b[0m \u001b[32m━━━━━━━━━━━━━━━━━━━━\u001b[0m\u001b[37m\u001b[0m \u001b[1m1s\u001b[0m 10ms/step - accuracy: 0.9915 - loss: 0.0669 - val_accuracy: 0.9225 - val_loss: 0.2188\n",
            "Epoch 39/40\n",
            "\u001b[1m50/50\u001b[0m \u001b[32m━━━━━━━━━━━━━━━━━━━━\u001b[0m\u001b[37m\u001b[0m \u001b[1m1s\u001b[0m 10ms/step - accuracy: 0.9924 - loss: 0.0602 - val_accuracy: 0.9237 - val_loss: 0.2175\n",
            "Epoch 40/40\n",
            "\u001b[1m50/50\u001b[0m \u001b[32m━━━━━━━━━━━━━━━━━━━━\u001b[0m\u001b[37m\u001b[0m \u001b[1m1s\u001b[0m 9ms/step - accuracy: 0.9956 - loss: 0.0558 - val_accuracy: 0.9250 - val_loss: 0.2168\n",
            "\u001b[1m32/32\u001b[0m \u001b[32m━━━━━━━━━━━━━━━━━━━━\u001b[0m\u001b[37m\u001b[0m \u001b[1m0s\u001b[0m 3ms/step - accuracy: 0.9200 - loss: 0.2315\n",
            "\u001b[1m32/32\u001b[0m \u001b[32m━━━━━━━━━━━━━━━━━━━━\u001b[0m\u001b[37m\u001b[0m \u001b[1m0s\u001b[0m 3ms/step\n",
            "Epoch 1/40\n",
            "\u001b[1m50/50\u001b[0m \u001b[32m━━━━━━━━━━━━━━━━━━━━\u001b[0m\u001b[37m\u001b[0m \u001b[1m2s\u001b[0m 10ms/step - accuracy: 0.1976 - loss: 2.2751 - val_accuracy: 0.4700 - val_loss: 2.1809\n",
            "Epoch 2/40\n",
            "\u001b[1m50/50\u001b[0m \u001b[32m━━━━━━━━━━━━━━━━━━━━\u001b[0m\u001b[37m\u001b[0m \u001b[1m0s\u001b[0m 6ms/step - accuracy: 0.5722 - loss: 2.1229 - val_accuracy: 0.6450 - val_loss: 1.9994\n",
            "Epoch 3/40\n",
            "\u001b[1m50/50\u001b[0m \u001b[32m━━━━━━━━━━━━━━━━━━━━\u001b[0m\u001b[37m\u001b[0m \u001b[1m0s\u001b[0m 6ms/step - accuracy: 0.7108 - loss: 1.9025 - val_accuracy: 0.7362 - val_loss: 1.7226\n",
            "Epoch 4/40\n",
            "\u001b[1m50/50\u001b[0m \u001b[32m━━━━━━━━━━━━━━━━━━━━\u001b[0m\u001b[37m\u001b[0m \u001b[1m0s\u001b[0m 6ms/step - accuracy: 0.7888 - loss: 1.5865 - val_accuracy: 0.7912 - val_loss: 1.3834\n",
            "Epoch 5/40\n",
            "\u001b[1m50/50\u001b[0m \u001b[32m━━━━━━━━━━━━━━━━━━━━\u001b[0m\u001b[37m\u001b[0m \u001b[1m0s\u001b[0m 6ms/step - accuracy: 0.8328 - loss: 1.2342 - val_accuracy: 0.8388 - val_loss: 1.0686\n",
            "Epoch 6/40\n",
            "\u001b[1m50/50\u001b[0m \u001b[32m━━━━━━━━━━━━━━━━━━━━\u001b[0m\u001b[37m\u001b[0m \u001b[1m0s\u001b[0m 5ms/step - accuracy: 0.8727 - loss: 0.9310 - val_accuracy: 0.8600 - val_loss: 0.8248\n",
            "Epoch 7/40\n",
            "\u001b[1m50/50\u001b[0m \u001b[32m━━━━━━━━━━━━━━━━━━━━\u001b[0m\u001b[37m\u001b[0m \u001b[1m0s\u001b[0m 5ms/step - accuracy: 0.8909 - loss: 0.6966 - val_accuracy: 0.8737 - val_loss: 0.6545\n",
            "Epoch 8/40\n",
            "\u001b[1m50/50\u001b[0m \u001b[32m━━━━━━━━━━━━━━━━━━━━\u001b[0m\u001b[37m\u001b[0m \u001b[1m0s\u001b[0m 5ms/step - accuracy: 0.9105 - loss: 0.5363 - val_accuracy: 0.8863 - val_loss: 0.5419\n",
            "Epoch 9/40\n",
            "\u001b[1m50/50\u001b[0m \u001b[32m━━━━━━━━━━━━━━━━━━━━\u001b[0m\u001b[37m\u001b[0m \u001b[1m0s\u001b[0m 6ms/step - accuracy: 0.9228 - loss: 0.4245 - val_accuracy: 0.8975 - val_loss: 0.4665\n",
            "Epoch 10/40\n",
            "\u001b[1m50/50\u001b[0m \u001b[32m━━━━━━━━━━━━━━━━━━━━\u001b[0m\u001b[37m\u001b[0m \u001b[1m0s\u001b[0m 5ms/step - accuracy: 0.9384 - loss: 0.3549 - val_accuracy: 0.9050 - val_loss: 0.4104\n",
            "Epoch 11/40\n",
            "\u001b[1m50/50\u001b[0m \u001b[32m━━━━━━━━━━━━━━━━━━━━\u001b[0m\u001b[37m\u001b[0m \u001b[1m0s\u001b[0m 6ms/step - accuracy: 0.9362 - loss: 0.3116 - val_accuracy: 0.9075 - val_loss: 0.3719\n",
            "Epoch 12/40\n",
            "\u001b[1m50/50\u001b[0m \u001b[32m━━━━━━━━━━━━━━━━━━━━\u001b[0m\u001b[37m\u001b[0m \u001b[1m0s\u001b[0m 5ms/step - accuracy: 0.9443 - loss: 0.2716 - val_accuracy: 0.9087 - val_loss: 0.3418\n",
            "Epoch 13/40\n",
            "\u001b[1m50/50\u001b[0m \u001b[32m━━━━━━━━━━━━━━━━━━━━\u001b[0m\u001b[37m\u001b[0m \u001b[1m0s\u001b[0m 5ms/step - accuracy: 0.9515 - loss: 0.2412 - val_accuracy: 0.9162 - val_loss: 0.3171\n",
            "Epoch 14/40\n",
            "\u001b[1m50/50\u001b[0m \u001b[32m━━━━━━━━━━━━━━━━━━━━\u001b[0m\u001b[37m\u001b[0m \u001b[1m0s\u001b[0m 6ms/step - accuracy: 0.9597 - loss: 0.2157 - val_accuracy: 0.9187 - val_loss: 0.2992\n",
            "Epoch 15/40\n",
            "\u001b[1m50/50\u001b[0m \u001b[32m━━━━━━━━━━━━━━━━━━━━\u001b[0m\u001b[37m\u001b[0m \u001b[1m0s\u001b[0m 6ms/step - accuracy: 0.9649 - loss: 0.1892 - val_accuracy: 0.9200 - val_loss: 0.2821\n",
            "Epoch 16/40\n",
            "\u001b[1m50/50\u001b[0m \u001b[32m━━━━━━━━━━━━━━━━━━━━\u001b[0m\u001b[37m\u001b[0m \u001b[1m0s\u001b[0m 6ms/step - accuracy: 0.9624 - loss: 0.1796 - val_accuracy: 0.9225 - val_loss: 0.2664\n",
            "Epoch 17/40\n",
            "\u001b[1m50/50\u001b[0m \u001b[32m━━━━━━━━━━━━━━━━━━━━\u001b[0m\u001b[37m\u001b[0m \u001b[1m0s\u001b[0m 5ms/step - accuracy: 0.9695 - loss: 0.1642 - val_accuracy: 0.9212 - val_loss: 0.2575\n",
            "Epoch 18/40\n",
            "\u001b[1m50/50\u001b[0m \u001b[32m━━━━━━━━━━━━━━━━━━━━\u001b[0m\u001b[37m\u001b[0m \u001b[1m0s\u001b[0m 5ms/step - accuracy: 0.9680 - loss: 0.1584 - val_accuracy: 0.9225 - val_loss: 0.2464\n",
            "Epoch 19/40\n",
            "\u001b[1m50/50\u001b[0m \u001b[32m━━━━━━━━━━━━━━━━━━━━\u001b[0m\u001b[37m\u001b[0m \u001b[1m0s\u001b[0m 5ms/step - accuracy: 0.9714 - loss: 0.1324 - val_accuracy: 0.9312 - val_loss: 0.2381\n",
            "Epoch 20/40\n",
            "\u001b[1m50/50\u001b[0m \u001b[32m━━━━━━━━━━━━━━━━━━━━\u001b[0m\u001b[37m\u001b[0m \u001b[1m0s\u001b[0m 5ms/step - accuracy: 0.9756 - loss: 0.1253 - val_accuracy: 0.9312 - val_loss: 0.2314\n",
            "Epoch 21/40\n",
            "\u001b[1m50/50\u001b[0m \u001b[32m━━━━━━━━━━━━━━━━━━━━\u001b[0m\u001b[37m\u001b[0m \u001b[1m0s\u001b[0m 6ms/step - accuracy: 0.9741 - loss: 0.1227 - val_accuracy: 0.9325 - val_loss: 0.2231\n",
            "Epoch 22/40\n",
            "\u001b[1m50/50\u001b[0m \u001b[32m━━━━━━━━━━━━━━━━━━━━\u001b[0m\u001b[37m\u001b[0m \u001b[1m0s\u001b[0m 5ms/step - accuracy: 0.9777 - loss: 0.1117 - val_accuracy: 0.9337 - val_loss: 0.2168\n",
            "Epoch 23/40\n",
            "\u001b[1m50/50\u001b[0m \u001b[32m━━━━━━━━━━━━━━━━━━━━\u001b[0m\u001b[37m\u001b[0m \u001b[1m0s\u001b[0m 5ms/step - accuracy: 0.9803 - loss: 0.1018 - val_accuracy: 0.9325 - val_loss: 0.2124\n",
            "Epoch 24/40\n",
            "\u001b[1m50/50\u001b[0m \u001b[32m━━━━━━━━━━━━━━━━━━━━\u001b[0m\u001b[37m\u001b[0m \u001b[1m0s\u001b[0m 5ms/step - accuracy: 0.9806 - loss: 0.0979 - val_accuracy: 0.9325 - val_loss: 0.2054\n",
            "Epoch 25/40\n",
            "\u001b[1m50/50\u001b[0m \u001b[32m━━━━━━━━━━━━━━━━━━━━\u001b[0m\u001b[37m\u001b[0m \u001b[1m0s\u001b[0m 5ms/step - accuracy: 0.9847 - loss: 0.0891 - val_accuracy: 0.9312 - val_loss: 0.2024\n",
            "Epoch 26/40\n",
            "\u001b[1m50/50\u001b[0m \u001b[32m━━━━━━━━━━━━━━━━━━━━\u001b[0m\u001b[37m\u001b[0m \u001b[1m0s\u001b[0m 8ms/step - accuracy: 0.9855 - loss: 0.0868 - val_accuracy: 0.9337 - val_loss: 0.1967\n",
            "Epoch 27/40\n",
            "\u001b[1m50/50\u001b[0m \u001b[32m━━━━━━━━━━━━━━━━━━━━\u001b[0m\u001b[37m\u001b[0m \u001b[1m1s\u001b[0m 8ms/step - accuracy: 0.9809 - loss: 0.0880 - val_accuracy: 0.9375 - val_loss: 0.1917\n",
            "Epoch 28/40\n",
            "\u001b[1m50/50\u001b[0m \u001b[32m━━━━━━━━━━━━━━━━━━━━\u001b[0m\u001b[37m\u001b[0m \u001b[1m1s\u001b[0m 10ms/step - accuracy: 0.9853 - loss: 0.0782 - val_accuracy: 0.9362 - val_loss: 0.1886\n",
            "Epoch 29/40\n",
            "\u001b[1m50/50\u001b[0m \u001b[32m━━━━━━━━━━━━━━━━━━━━\u001b[0m\u001b[37m\u001b[0m \u001b[1m1s\u001b[0m 9ms/step - accuracy: 0.9828 - loss: 0.0722 - val_accuracy: 0.9388 - val_loss: 0.1865\n",
            "Epoch 30/40\n",
            "\u001b[1m50/50\u001b[0m \u001b[32m━━━━━━━━━━━━━━━━━━━━\u001b[0m\u001b[37m\u001b[0m \u001b[1m1s\u001b[0m 10ms/step - accuracy: 0.9860 - loss: 0.0699 - val_accuracy: 0.9400 - val_loss: 0.1829\n",
            "Epoch 31/40\n",
            "\u001b[1m50/50\u001b[0m \u001b[32m━━━━━━━━━━━━━━━━━━━━\u001b[0m\u001b[37m\u001b[0m \u001b[1m1s\u001b[0m 10ms/step - accuracy: 0.9892 - loss: 0.0667 - val_accuracy: 0.9413 - val_loss: 0.1790\n",
            "Epoch 32/40\n",
            "\u001b[1m50/50\u001b[0m \u001b[32m━━━━━━━━━━━━━━━━━━━━\u001b[0m\u001b[37m\u001b[0m \u001b[1m0s\u001b[0m 5ms/step - accuracy: 0.9878 - loss: 0.0659 - val_accuracy: 0.9425 - val_loss: 0.1759\n",
            "Epoch 33/40\n",
            "\u001b[1m50/50\u001b[0m \u001b[32m━━━━━━━━━━━━━━━━━━━━\u001b[0m\u001b[37m\u001b[0m \u001b[1m0s\u001b[0m 5ms/step - accuracy: 0.9892 - loss: 0.0591 - val_accuracy: 0.9425 - val_loss: 0.1749\n",
            "Epoch 34/40\n",
            "\u001b[1m50/50\u001b[0m \u001b[32m━━━━━━━━━━━━━━━━━━━━\u001b[0m\u001b[37m\u001b[0m \u001b[1m0s\u001b[0m 6ms/step - accuracy: 0.9891 - loss: 0.0606 - val_accuracy: 0.9450 - val_loss: 0.1723\n",
            "Epoch 35/40\n",
            "\u001b[1m50/50\u001b[0m \u001b[32m━━━━━━━━━━━━━━━━━━━━\u001b[0m\u001b[37m\u001b[0m \u001b[1m1s\u001b[0m 6ms/step - accuracy: 0.9919 - loss: 0.0573 - val_accuracy: 0.9488 - val_loss: 0.1725\n",
            "Epoch 36/40\n",
            "\u001b[1m50/50\u001b[0m \u001b[32m━━━━━━━━━━━━━━━━━━━━\u001b[0m\u001b[37m\u001b[0m \u001b[1m0s\u001b[0m 6ms/step - accuracy: 0.9927 - loss: 0.0512 - val_accuracy: 0.9450 - val_loss: 0.1678\n",
            "Epoch 37/40\n",
            "\u001b[1m50/50\u001b[0m \u001b[32m━━━━━━━━━━━━━━━━━━━━\u001b[0m\u001b[37m\u001b[0m \u001b[1m1s\u001b[0m 5ms/step - accuracy: 0.9920 - loss: 0.0480 - val_accuracy: 0.9475 - val_loss: 0.1660\n",
            "Epoch 38/40\n",
            "\u001b[1m50/50\u001b[0m \u001b[32m━━━━━━━━━━━━━━━━━━━━\u001b[0m\u001b[37m\u001b[0m \u001b[1m0s\u001b[0m 6ms/step - accuracy: 0.9938 - loss: 0.0468 - val_accuracy: 0.9488 - val_loss: 0.1644\n",
            "Epoch 39/40\n",
            "\u001b[1m50/50\u001b[0m \u001b[32m━━━━━━━━━━━━━━━━━━━━\u001b[0m\u001b[37m\u001b[0m \u001b[1m1s\u001b[0m 5ms/step - accuracy: 0.9931 - loss: 0.0451 - val_accuracy: 0.9513 - val_loss: 0.1613\n",
            "Epoch 40/40\n",
            "\u001b[1m50/50\u001b[0m \u001b[32m━━━━━━━━━━━━━━━━━━━━\u001b[0m\u001b[37m\u001b[0m \u001b[1m0s\u001b[0m 5ms/step - accuracy: 0.9934 - loss: 0.0439 - val_accuracy: 0.9488 - val_loss: 0.1609\n",
            "\u001b[1m32/32\u001b[0m \u001b[32m━━━━━━━━━━━━━━━━━━━━\u001b[0m\u001b[37m\u001b[0m \u001b[1m0s\u001b[0m 3ms/step - accuracy: 0.9611 - loss: 0.1266\n",
            "\u001b[1m32/32\u001b[0m \u001b[32m━━━━━━━━━━━━━━━━━━━━\u001b[0m\u001b[37m\u001b[0m \u001b[1m0s\u001b[0m 3ms/step\n",
            "Epoch 1/40\n",
            "\u001b[1m50/50\u001b[0m \u001b[32m━━━━━━━━━━━━━━━━━━━━\u001b[0m\u001b[37m\u001b[0m \u001b[1m2s\u001b[0m 10ms/step - accuracy: 0.1177 - loss: 3.0544 - val_accuracy: 0.2800 - val_loss: 2.1026\n",
            "Epoch 2/40\n",
            "\u001b[1m50/50\u001b[0m \u001b[32m━━━━━━━━━━━━━━━━━━━━\u001b[0m\u001b[37m\u001b[0m \u001b[1m0s\u001b[0m 5ms/step - accuracy: 0.3566 - loss: 1.8752 - val_accuracy: 0.4663 - val_loss: 1.5318\n",
            "Epoch 3/40\n",
            "\u001b[1m50/50\u001b[0m \u001b[32m━━━━━━━━━━━━━━━━━━━━\u001b[0m\u001b[37m\u001b[0m \u001b[1m0s\u001b[0m 6ms/step - accuracy: 0.5180 - loss: 1.3772 - val_accuracy: 0.5925 - val_loss: 1.1518\n",
            "Epoch 4/40\n",
            "\u001b[1m50/50\u001b[0m \u001b[32m━━━━━━━━━━━━━━━━━━━━\u001b[0m\u001b[37m\u001b[0m \u001b[1m1s\u001b[0m 5ms/step - accuracy: 0.6563 - loss: 0.9989 - val_accuracy: 0.7000 - val_loss: 0.9077\n",
            "Epoch 5/40\n",
            "\u001b[1m50/50\u001b[0m \u001b[32m━━━━━━━━━━━━━━━━━━━━\u001b[0m\u001b[37m\u001b[0m \u001b[1m0s\u001b[0m 6ms/step - accuracy: 0.7666 - loss: 0.7442 - val_accuracy: 0.7538 - val_loss: 0.7650\n",
            "Epoch 6/40\n",
            "\u001b[1m50/50\u001b[0m \u001b[32m━━━━━━━━━━━━━━━━━━━━\u001b[0m\u001b[37m\u001b[0m \u001b[1m0s\u001b[0m 5ms/step - accuracy: 0.7997 - loss: 0.6447 - val_accuracy: 0.7788 - val_loss: 0.6744\n",
            "Epoch 7/40\n",
            "\u001b[1m50/50\u001b[0m \u001b[32m━━━━━━━━━━━━━━━━━━━━\u001b[0m\u001b[37m\u001b[0m \u001b[1m0s\u001b[0m 5ms/step - accuracy: 0.8402 - loss: 0.5324 - val_accuracy: 0.8062 - val_loss: 0.6120\n",
            "Epoch 8/40\n",
            "\u001b[1m50/50\u001b[0m \u001b[32m━━━━━━━━━━━━━━━━━━━━\u001b[0m\u001b[37m\u001b[0m \u001b[1m0s\u001b[0m 5ms/step - accuracy: 0.8676 - loss: 0.4566 - val_accuracy: 0.8087 - val_loss: 0.5619\n",
            "Epoch 9/40\n",
            "\u001b[1m50/50\u001b[0m \u001b[32m━━━━━━━━━━━━━━━━━━━━\u001b[0m\u001b[37m\u001b[0m \u001b[1m0s\u001b[0m 5ms/step - accuracy: 0.8732 - loss: 0.4032 - val_accuracy: 0.8175 - val_loss: 0.5303\n",
            "Epoch 10/40\n",
            "\u001b[1m50/50\u001b[0m \u001b[32m━━━━━━━━━━━━━━━━━━━━\u001b[0m\u001b[37m\u001b[0m \u001b[1m0s\u001b[0m 5ms/step - accuracy: 0.8842 - loss: 0.3678 - val_accuracy: 0.8300 - val_loss: 0.4984\n",
            "Epoch 11/40\n",
            "\u001b[1m50/50\u001b[0m \u001b[32m━━━━━━━━━━━━━━━━━━━━\u001b[0m\u001b[37m\u001b[0m \u001b[1m0s\u001b[0m 5ms/step - accuracy: 0.8899 - loss: 0.3337 - val_accuracy: 0.8313 - val_loss: 0.4745\n",
            "Epoch 12/40\n",
            "\u001b[1m50/50\u001b[0m \u001b[32m━━━━━━━━━━━━━━━━━━━━\u001b[0m\u001b[37m\u001b[0m \u001b[1m1s\u001b[0m 10ms/step - accuracy: 0.9110 - loss: 0.2952 - val_accuracy: 0.8438 - val_loss: 0.4552\n",
            "Epoch 13/40\n",
            "\u001b[1m50/50\u001b[0m \u001b[32m━━━━━━━━━━━━━━━━━━━━\u001b[0m\u001b[37m\u001b[0m \u001b[1m1s\u001b[0m 10ms/step - accuracy: 0.9176 - loss: 0.2688 - val_accuracy: 0.8462 - val_loss: 0.4403\n",
            "Epoch 14/40\n",
            "\u001b[1m50/50\u001b[0m \u001b[32m━━━━━━━━━━━━━━━━━━━━\u001b[0m\u001b[37m\u001b[0m \u001b[1m1s\u001b[0m 8ms/step - accuracy: 0.9239 - loss: 0.2573 - val_accuracy: 0.8562 - val_loss: 0.4220\n",
            "Epoch 15/40\n",
            "\u001b[1m50/50\u001b[0m \u001b[32m━━━━━━━━━━━━━━━━━━━━\u001b[0m\u001b[37m\u001b[0m \u001b[1m1s\u001b[0m 10ms/step - accuracy: 0.9358 - loss: 0.2240 - val_accuracy: 0.8525 - val_loss: 0.4106\n",
            "Epoch 16/40\n",
            "\u001b[1m50/50\u001b[0m \u001b[32m━━━━━━━━━━━━━━━━━━━━\u001b[0m\u001b[37m\u001b[0m \u001b[1m1s\u001b[0m 10ms/step - accuracy: 0.9434 - loss: 0.2097 - val_accuracy: 0.8625 - val_loss: 0.3989\n",
            "Epoch 17/40\n",
            "\u001b[1m50/50\u001b[0m \u001b[32m━━━━━━━━━━━━━━━━━━━━\u001b[0m\u001b[37m\u001b[0m \u001b[1m1s\u001b[0m 8ms/step - accuracy: 0.9515 - loss: 0.1905 - val_accuracy: 0.8712 - val_loss: 0.3865\n",
            "Epoch 18/40\n",
            "\u001b[1m50/50\u001b[0m \u001b[32m━━━━━━━━━━━━━━━━━━━━\u001b[0m\u001b[37m\u001b[0m \u001b[1m0s\u001b[0m 5ms/step - accuracy: 0.9544 - loss: 0.1807 - val_accuracy: 0.8750 - val_loss: 0.3784\n",
            "Epoch 19/40\n",
            "\u001b[1m50/50\u001b[0m \u001b[32m━━━━━━━━━━━━━━━━━━━━\u001b[0m\u001b[37m\u001b[0m \u001b[1m0s\u001b[0m 5ms/step - accuracy: 0.9601 - loss: 0.1638 - val_accuracy: 0.8813 - val_loss: 0.3701\n",
            "Epoch 20/40\n",
            "\u001b[1m50/50\u001b[0m \u001b[32m━━━━━━━━━━━━━━━━━━━━\u001b[0m\u001b[37m\u001b[0m \u001b[1m0s\u001b[0m 6ms/step - accuracy: 0.9669 - loss: 0.1504 - val_accuracy: 0.8825 - val_loss: 0.3696\n",
            "Epoch 21/40\n",
            "\u001b[1m50/50\u001b[0m \u001b[32m━━━━━━━━━━━━━━━━━━━━\u001b[0m\u001b[37m\u001b[0m \u001b[1m0s\u001b[0m 5ms/step - accuracy: 0.9687 - loss: 0.1431 - val_accuracy: 0.8863 - val_loss: 0.3593\n",
            "Epoch 22/40\n",
            "\u001b[1m50/50\u001b[0m \u001b[32m━━━━━━━━━━━━━━━━━━━━\u001b[0m\u001b[37m\u001b[0m \u001b[1m0s\u001b[0m 6ms/step - accuracy: 0.9808 - loss: 0.1240 - val_accuracy: 0.8900 - val_loss: 0.3593\n",
            "Epoch 23/40\n",
            "\u001b[1m50/50\u001b[0m \u001b[32m━━━━━━━━━━━━━━━━━━━━\u001b[0m\u001b[37m\u001b[0m \u001b[1m1s\u001b[0m 5ms/step - accuracy: 0.9796 - loss: 0.1231 - val_accuracy: 0.8900 - val_loss: 0.3534\n",
            "Epoch 24/40\n",
            "\u001b[1m50/50\u001b[0m \u001b[32m━━━━━━━━━━━━━━━━━━━━\u001b[0m\u001b[37m\u001b[0m \u001b[1m0s\u001b[0m 5ms/step - accuracy: 0.9835 - loss: 0.1077 - val_accuracy: 0.8913 - val_loss: 0.3484\n",
            "Epoch 25/40\n",
            "\u001b[1m50/50\u001b[0m \u001b[32m━━━━━━━━━━━━━━━━━━━━\u001b[0m\u001b[37m\u001b[0m \u001b[1m0s\u001b[0m 5ms/step - accuracy: 0.9859 - loss: 0.1036 - val_accuracy: 0.8938 - val_loss: 0.3455\n",
            "Epoch 26/40\n",
            "\u001b[1m50/50\u001b[0m \u001b[32m━━━━━━━━━━━━━━━━━━━━\u001b[0m\u001b[37m\u001b[0m \u001b[1m0s\u001b[0m 6ms/step - accuracy: 0.9839 - loss: 0.0975 - val_accuracy: 0.8963 - val_loss: 0.3447\n",
            "Epoch 27/40\n",
            "\u001b[1m50/50\u001b[0m \u001b[32m━━━━━━━━━━━━━━━━━━━━\u001b[0m\u001b[37m\u001b[0m \u001b[1m0s\u001b[0m 6ms/step - accuracy: 0.9812 - loss: 0.0981 - val_accuracy: 0.8938 - val_loss: 0.3426\n",
            "Epoch 28/40\n",
            "\u001b[1m50/50\u001b[0m \u001b[32m━━━━━━━━━━━━━━━━━━━━\u001b[0m\u001b[37m\u001b[0m \u001b[1m0s\u001b[0m 6ms/step - accuracy: 0.9861 - loss: 0.0880 - val_accuracy: 0.8938 - val_loss: 0.3405\n",
            "Epoch 29/40\n",
            "\u001b[1m50/50\u001b[0m \u001b[32m━━━━━━━━━━━━━━━━━━━━\u001b[0m\u001b[37m\u001b[0m \u001b[1m0s\u001b[0m 5ms/step - accuracy: 0.9916 - loss: 0.0787 - val_accuracy: 0.8938 - val_loss: 0.3405\n",
            "Epoch 30/40\n",
            "\u001b[1m50/50\u001b[0m \u001b[32m━━━━━━━━━━━━━━━━━━━━\u001b[0m\u001b[37m\u001b[0m \u001b[1m0s\u001b[0m 5ms/step - accuracy: 0.9907 - loss: 0.0709 - val_accuracy: 0.8963 - val_loss: 0.3397\n",
            "Epoch 31/40\n",
            "\u001b[1m50/50\u001b[0m \u001b[32m━━━━━━━━━━━━━━━━━━━━\u001b[0m\u001b[37m\u001b[0m \u001b[1m0s\u001b[0m 6ms/step - accuracy: 0.9912 - loss: 0.0689 - val_accuracy: 0.8988 - val_loss: 0.3380\n",
            "Epoch 32/40\n",
            "\u001b[1m50/50\u001b[0m \u001b[32m━━━━━━━━━━━━━━━━━━━━\u001b[0m\u001b[37m\u001b[0m \u001b[1m0s\u001b[0m 6ms/step - accuracy: 0.9930 - loss: 0.0622 - val_accuracy: 0.8988 - val_loss: 0.3379\n",
            "Epoch 33/40\n",
            "\u001b[1m50/50\u001b[0m \u001b[32m━━━━━━━━━━━━━━━━━━━━\u001b[0m\u001b[37m\u001b[0m \u001b[1m0s\u001b[0m 5ms/step - accuracy: 0.9963 - loss: 0.0587 - val_accuracy: 0.9000 - val_loss: 0.3365\n",
            "Epoch 34/40\n",
            "\u001b[1m50/50\u001b[0m \u001b[32m━━━━━━━━━━━━━━━━━━━━\u001b[0m\u001b[37m\u001b[0m \u001b[1m0s\u001b[0m 6ms/step - accuracy: 0.9952 - loss: 0.0551 - val_accuracy: 0.9000 - val_loss: 0.3377\n",
            "Epoch 35/40\n",
            "\u001b[1m50/50\u001b[0m \u001b[32m━━━━━━━━━━━━━━━━━━━━\u001b[0m\u001b[37m\u001b[0m \u001b[1m0s\u001b[0m 6ms/step - accuracy: 0.9961 - loss: 0.0515 - val_accuracy: 0.9000 - val_loss: 0.3382\n",
            "Epoch 36/40\n",
            "\u001b[1m50/50\u001b[0m \u001b[32m━━━━━━━━━━━━━━━━━━━━\u001b[0m\u001b[37m\u001b[0m \u001b[1m0s\u001b[0m 6ms/step - accuracy: 0.9982 - loss: 0.0479 - val_accuracy: 0.9013 - val_loss: 0.3375\n",
            "Epoch 37/40\n",
            "\u001b[1m50/50\u001b[0m \u001b[32m━━━━━━━━━━━━━━━━━━━━\u001b[0m\u001b[37m\u001b[0m \u001b[1m1s\u001b[0m 6ms/step - accuracy: 0.9993 - loss: 0.0430 - val_accuracy: 0.8988 - val_loss: 0.3372\n",
            "Epoch 38/40\n",
            "\u001b[1m50/50\u001b[0m \u001b[32m━━━━━━━━━━━━━━━━━━━━\u001b[0m\u001b[37m\u001b[0m \u001b[1m0s\u001b[0m 5ms/step - accuracy: 0.9986 - loss: 0.0409 - val_accuracy: 0.9025 - val_loss: 0.3353\n",
            "Epoch 39/40\n",
            "\u001b[1m50/50\u001b[0m \u001b[32m━━━━━━━━━━━━━━━━━━━━\u001b[0m\u001b[37m\u001b[0m \u001b[1m0s\u001b[0m 6ms/step - accuracy: 0.9972 - loss: 0.0395 - val_accuracy: 0.9025 - val_loss: 0.3388\n",
            "Epoch 40/40\n",
            "\u001b[1m50/50\u001b[0m \u001b[32m━━━━━━━━━━━━━━━━━━━━\u001b[0m\u001b[37m\u001b[0m \u001b[1m0s\u001b[0m 5ms/step - accuracy: 0.9994 - loss: 0.0367 - val_accuracy: 0.9038 - val_loss: 0.3357\n",
            "\u001b[1m32/32\u001b[0m \u001b[32m━━━━━━━━━━━━━━━━━━━━\u001b[0m\u001b[37m\u001b[0m \u001b[1m0s\u001b[0m 3ms/step - accuracy: 0.8989 - loss: 0.3305\n",
            "\u001b[1m32/32\u001b[0m \u001b[32m━━━━━━━━━━━━━━━━━━━━\u001b[0m\u001b[37m\u001b[0m \u001b[1m0s\u001b[0m 3ms/step\n",
            "\n",
            "------------------------------------------------------\n",
            "\n",
            "ANN Raw Pixels Accuracy: 92.40\n",
            "ANN Raw Pixels Classification Report:\n",
            "               precision    recall  f1-score   support\n",
            "\n",
            "           0       0.96      1.00      0.98        94\n",
            "           1       0.94      0.89      0.91        98\n",
            "           2       0.86      0.86      0.86       111\n",
            "           3       0.79      0.91      0.85        81\n",
            "           4       0.92      0.87      0.89       105\n",
            "           5       0.89      0.85      0.87        85\n",
            "           6       1.00      0.99      1.00       105\n",
            "           7       0.96      0.98      0.97       112\n",
            "           8       0.97      0.99      0.98       111\n",
            "           9       0.94      0.89      0.91        98\n",
            "\n",
            "    accuracy                           0.92      1000\n",
            "   macro avg       0.92      0.92      0.92      1000\n",
            "weighted avg       0.93      0.92      0.92      1000\n",
            "\n",
            "ANN Raw Pixels Confusion Matrix:\n"
          ]
        },
        {
          "output_type": "display_data",
          "data": {
            "text/plain": [
              "array([[ 94,   0,   0,   0,   0,   0,   0,   0,   0,   0],\n",
              "       [  1,  87,   0,   4,   0,   2,   0,   2,   1,   1],\n",
              "       [  1,   0,  95,   5,   3,   5,   0,   1,   0,   1],\n",
              "       [  0,   0,   3,  74,   1,   1,   0,   0,   1,   1],\n",
              "       [  2,   1,   6,   2,  91,   1,   0,   0,   0,   2],\n",
              "       [  0,   1,   5,   2,   4,  72,   0,   0,   0,   1],\n",
              "       [  0,   0,   0,   0,   0,   0, 104,   0,   1,   0],\n",
              "       [  0,   2,   0,   0,   0,   0,   0, 110,   0,   0],\n",
              "       [  0,   1,   0,   0,   0,   0,   0,   0, 110,   0],\n",
              "       [  0,   1,   2,   7,   0,   0,   0,   1,   0,  87]])"
            ]
          },
          "metadata": {}
        },
        {
          "output_type": "stream",
          "name": "stdout",
          "text": [
            "\n",
            "------------------------------------------------------\n",
            "\n",
            "ANN HOG Features Accuracy: 96.10\n",
            "ANN HOG Features Classification Report:\n",
            "               precision    recall  f1-score   support\n",
            "\n",
            "           0       0.99      1.00      0.99        94\n",
            "           1       0.97      0.99      0.98        98\n",
            "           2       0.97      0.88      0.92       111\n",
            "           3       0.87      0.88      0.87        81\n",
            "           4       0.94      0.95      0.95       105\n",
            "           5       0.89      0.94      0.91        85\n",
            "           6       1.00      1.00      1.00       105\n",
            "           7       0.99      1.00      1.00       112\n",
            "           8       1.00      1.00      1.00       111\n",
            "           9       0.96      0.95      0.95        98\n",
            "\n",
            "    accuracy                           0.96      1000\n",
            "   macro avg       0.96      0.96      0.96      1000\n",
            "weighted avg       0.96      0.96      0.96      1000\n",
            "\n",
            "ANN HOG Features Confusion Matrix:\n"
          ]
        },
        {
          "output_type": "display_data",
          "data": {
            "text/plain": [
              "array([[ 94,   0,   0,   0,   0,   0,   0,   0,   0,   0],\n",
              "       [  0,  97,   0,   1,   0,   0,   0,   0,   0,   0],\n",
              "       [  0,   0,  98,   4,   3,   6,   0,   0,   0,   0],\n",
              "       [  0,   3,   2,  71,   0,   3,   0,   1,   0,   1],\n",
              "       [  1,   0,   0,   2, 100,   0,   0,   0,   0,   2],\n",
              "       [  0,   0,   1,   1,   2,  80,   0,   0,   0,   1],\n",
              "       [  0,   0,   0,   0,   0,   0, 105,   0,   0,   0],\n",
              "       [  0,   0,   0,   0,   0,   0,   0, 112,   0,   0],\n",
              "       [  0,   0,   0,   0,   0,   0,   0,   0, 111,   0],\n",
              "       [  0,   0,   0,   3,   1,   1,   0,   0,   0,  93]])"
            ]
          },
          "metadata": {}
        },
        {
          "output_type": "stream",
          "name": "stdout",
          "text": [
            "\n",
            "------------------------------------------------------\n",
            "\n",
            "ANN LBP Features Accuracy: 90.90\n",
            "ANN LBP Features Classification Report:\n",
            "               precision    recall  f1-score   support\n",
            "\n",
            "           0       1.00      0.99      0.99        94\n",
            "           1       0.95      0.88      0.91        98\n",
            "           2       0.86      0.77      0.82       111\n",
            "           3       0.87      0.80      0.83        81\n",
            "           4       0.85      0.91      0.88       105\n",
            "           5       0.76      0.82      0.79        85\n",
            "           6       0.98      0.97      0.98       105\n",
            "           7       0.96      0.97      0.97       112\n",
            "           8       0.96      0.99      0.98       111\n",
            "           9       0.88      0.94      0.91        98\n",
            "\n",
            "    accuracy                           0.91      1000\n",
            "   macro avg       0.91      0.91      0.91      1000\n",
            "weighted avg       0.91      0.91      0.91      1000\n",
            "\n",
            "ANN LBP Features Confusion Matrix:\n"
          ]
        },
        {
          "output_type": "display_data",
          "data": {
            "text/plain": [
              "array([[ 93,   1,   0,   0,   0,   0,   0,   0,   0,   0],\n",
              "       [  0,  86,   0,   4,   0,   1,   1,   4,   1,   1],\n",
              "       [  0,   0,  86,   5,   9,  11,   0,   0,   0,   0],\n",
              "       [  0,   1,   1,  65,   4,   6,   0,   0,   0,   4],\n",
              "       [  0,   0,   2,   0,  96,   1,   0,   0,   0,   6],\n",
              "       [  0,   0,   9,   1,   3,  70,   0,   0,   0,   2],\n",
              "       [  0,   0,   0,   0,   0,   0, 102,   0,   3,   0],\n",
              "       [  0,   2,   0,   0,   1,   0,   0, 109,   0,   0],\n",
              "       [  0,   0,   0,   0,   0,   0,   1,   0, 110,   0],\n",
              "       [  0,   1,   2,   0,   0,   3,   0,   0,   0,  92]])"
            ]
          },
          "metadata": {}
        }
      ],
      "source": [
        "# Trains ANN on Raw Pixel features\n",
        "model_ann_raw, accuracy_ann_raw, report_ann_raw, cmat_ann_raw = train_ann(X_train_raw, y_train, X_test_raw, y_test)\n",
        "# Trains ANN on HOG features\n",
        "model_ann_hog, accuracy_ann_hog, report_ann_hog, cmat_ann_hog = train_ann(X_train_hog, y_train, X_test_hog, y_test)\n",
        "# Trains ANN on LBP features\n",
        "model_ann_lbp, accuracy_ann_lbp, report_ann_lbp, cmat_ann_lbp = train_ann(X_train_lbp, y_train, X_test_lbp, y_test)\n",
        "print(\"\\n------------------------------------------------------\\n\")\n",
        "print(f\"ANN Raw Pixels Accuracy: {accuracy_ann_raw * 100:.2f}\") # Prints accuracy\n",
        "print(\"ANN Raw Pixels Classification Report:\\n\", report_ann_raw) # Prints classification report\n",
        "print(\"ANN Raw Pixels Confusion Matrix:\")\n",
        "display(cmat_ann_raw) # Displays confusion matrix\n",
        "print(\"\\n------------------------------------------------------\\n\")\n",
        "print(f\"ANN HOG Features Accuracy: {accuracy_ann_hog * 100:.2f}\") # Prints accuracy\n",
        "print(\"ANN HOG Features Classification Report:\\n\", report_ann_hog) # Prints classification report\n",
        "print(\"ANN HOG Features Confusion Matrix:\")\n",
        "display(cmat_ann_hog) # Displays confusion matrix\n",
        "print(\"\\n------------------------------------------------------\\n\")\n",
        "print(f\"ANN LBP Features Accuracy: {accuracy_ann_lbp * 100:.2f}\") # Prints accuracy\n",
        "print(\"ANN LBP Features Classification Report:\\n\", report_ann_lbp) # Prints classification report\n",
        "print(\"ANN LBP Features Confusion Matrix:\")\n",
        "display(cmat_ann_lbp) # Displays confusion matrix"
      ]
    },
    {
      "cell_type": "markdown",
      "source": [
        "Creates an easy to read pandas dataframe to compare the feature types and their respective accuracies."
      ],
      "metadata": {
        "id": "If3UL-GeQx7m"
      }
    },
    {
      "cell_type": "code",
      "source": [
        "# Create a pandas dataframe to store accuracies of ANN models based on features used\n",
        "results_ann = pd.DataFrame({\n",
        "    'Feature Type': ['Raw Pixels', 'HOG', 'LBP'],\n",
        "    'ANN Accuracy (%)': [accuracy_ann_raw * 100, accuracy_ann_hog * 100, accuracy_ann_lbp * 100]\n",
        "})\n",
        "\n",
        "# Prints dataframe\n",
        "print(results_ann)"
      ],
      "metadata": {
        "colab": {
          "base_uri": "https://localhost:8080/"
        },
        "id": "9cf3yrd4Uy7S",
        "outputId": "e0da4c30-fa68-4b26-df80-5a64424bb129"
      },
      "execution_count": 220,
      "outputs": [
        {
          "output_type": "stream",
          "name": "stdout",
          "text": [
            "  Feature Type  ANN Accuracy (%)\n",
            "0   Raw Pixels         92.400002\n",
            "1          HOG         96.100003\n",
            "2          LBP         90.899998\n"
          ]
        }
      ]
    },
    {
      "cell_type": "markdown",
      "metadata": {
        "id": "zoobjrI-xEoM"
      },
      "source": [
        "### Training models with combined features\n",
        "\n",
        "This code combines the different sets of features and trains it using the selected models.\n",
        "\n",
        "The two variations of combinations include:\n",
        "\n",
        "\n",
        "*   All features (Raw Pixels, HOG, and LBP)\n",
        "*   HOG and LBP\n",
        "\n",
        "I combined them to potentially allow the model to leverage the different types of information to improve the model's ability in recognising complex patterns in the image data.\n",
        "\n",
        "I decided to make two sets of combined features as raw pixel data can be quite noisy and increase the risk of overfitting. Whereas combining only the HOG and LBP features allows the model to focus on the structured patterns and textures which may make the model more reliable at classifying. By using two different combinations I can potentially demonstrate this.\n",
        "\n",
        "Like with the models above, it then prints the accuracy, classification report and confusion matrix.\n"
      ]
    },
    {
      "cell_type": "code",
      "execution_count": 221,
      "metadata": {
        "id": "QcIY42CHxKHj",
        "colab": {
          "base_uri": "https://localhost:8080/",
          "height": 1000
        },
        "collapsed": true,
        "outputId": "7e0341eb-a935-4af2-f1e2-81991339d7dc"
      },
      "outputs": [
        {
          "output_type": "stream",
          "name": "stdout",
          "text": [
            "Epoch 1/40\n",
            "\u001b[1m50/50\u001b[0m \u001b[32m━━━━━━━━━━━━━━━━━━━━\u001b[0m\u001b[37m\u001b[0m \u001b[1m3s\u001b[0m 18ms/step - accuracy: 0.1632 - loss: 2.5482 - val_accuracy: 0.3787 - val_loss: 1.8381\n",
            "Epoch 2/40\n",
            "\u001b[1m50/50\u001b[0m \u001b[32m━━━━━━━━━━━━━━━━━━━━\u001b[0m\u001b[37m\u001b[0m \u001b[1m1s\u001b[0m 7ms/step - accuracy: 0.4852 - loss: 1.5580 - val_accuracy: 0.5625 - val_loss: 1.3424\n",
            "Epoch 3/40\n",
            "\u001b[1m50/50\u001b[0m \u001b[32m━━━━━━━━━━━━━━━━━━━━\u001b[0m\u001b[37m\u001b[0m \u001b[1m1s\u001b[0m 6ms/step - accuracy: 0.6701 - loss: 1.0720 - val_accuracy: 0.6825 - val_loss: 1.0345\n",
            "Epoch 4/40\n",
            "\u001b[1m50/50\u001b[0m \u001b[32m━━━━━━━━━━━━━━━━━━━━\u001b[0m\u001b[37m\u001b[0m \u001b[1m0s\u001b[0m 6ms/step - accuracy: 0.7640 - loss: 0.8051 - val_accuracy: 0.7525 - val_loss: 0.8498\n",
            "Epoch 5/40\n",
            "\u001b[1m50/50\u001b[0m \u001b[32m━━━━━━━━━━━━━━━━━━━━\u001b[0m\u001b[37m\u001b[0m \u001b[1m0s\u001b[0m 6ms/step - accuracy: 0.8161 - loss: 0.6279 - val_accuracy: 0.7775 - val_loss: 0.7254\n",
            "Epoch 6/40\n",
            "\u001b[1m50/50\u001b[0m \u001b[32m━━━━━━━━━━━━━━━━━━━━\u001b[0m\u001b[37m\u001b[0m \u001b[1m0s\u001b[0m 6ms/step - accuracy: 0.8579 - loss: 0.4940 - val_accuracy: 0.8037 - val_loss: 0.6385\n",
            "Epoch 7/40\n",
            "\u001b[1m50/50\u001b[0m \u001b[32m━━━━━━━━━━━━━━━━━━━━\u001b[0m\u001b[37m\u001b[0m \u001b[1m1s\u001b[0m 7ms/step - accuracy: 0.8850 - loss: 0.4170 - val_accuracy: 0.8313 - val_loss: 0.5747\n",
            "Epoch 8/40\n",
            "\u001b[1m50/50\u001b[0m \u001b[32m━━━━━━━━━━━━━━━━━━━━\u001b[0m\u001b[37m\u001b[0m \u001b[1m1s\u001b[0m 6ms/step - accuracy: 0.8949 - loss: 0.3647 - val_accuracy: 0.8413 - val_loss: 0.5224\n",
            "Epoch 9/40\n",
            "\u001b[1m50/50\u001b[0m \u001b[32m━━━━━━━━━━━━━━━━━━━━\u001b[0m\u001b[37m\u001b[0m \u001b[1m1s\u001b[0m 6ms/step - accuracy: 0.9147 - loss: 0.2932 - val_accuracy: 0.8487 - val_loss: 0.4822\n",
            "Epoch 10/40\n",
            "\u001b[1m50/50\u001b[0m \u001b[32m━━━━━━━━━━━━━━━━━━━━\u001b[0m\u001b[37m\u001b[0m \u001b[1m0s\u001b[0m 6ms/step - accuracy: 0.9344 - loss: 0.2513 - val_accuracy: 0.8537 - val_loss: 0.4506\n",
            "Epoch 11/40\n",
            "\u001b[1m50/50\u001b[0m \u001b[32m━━━━━━━━━━━━━━━━━━━━\u001b[0m\u001b[37m\u001b[0m \u001b[1m0s\u001b[0m 6ms/step - accuracy: 0.9304 - loss: 0.2515 - val_accuracy: 0.8600 - val_loss: 0.4275\n",
            "Epoch 12/40\n",
            "\u001b[1m50/50\u001b[0m \u001b[32m━━━━━━━━━━━━━━━━━━━━\u001b[0m\u001b[37m\u001b[0m \u001b[1m0s\u001b[0m 6ms/step - accuracy: 0.9461 - loss: 0.2165 - val_accuracy: 0.8687 - val_loss: 0.4082\n",
            "Epoch 13/40\n",
            "\u001b[1m50/50\u001b[0m \u001b[32m━━━━━━━━━━━━━━━━━━━━\u001b[0m\u001b[37m\u001b[0m \u001b[1m1s\u001b[0m 6ms/step - accuracy: 0.9564 - loss: 0.1789 - val_accuracy: 0.8750 - val_loss: 0.3852\n",
            "Epoch 14/40\n",
            "\u001b[1m50/50\u001b[0m \u001b[32m━━━━━━━━━━━━━━━━━━━━\u001b[0m\u001b[37m\u001b[0m \u001b[1m1s\u001b[0m 6ms/step - accuracy: 0.9615 - loss: 0.1696 - val_accuracy: 0.8825 - val_loss: 0.3690\n",
            "Epoch 15/40\n",
            "\u001b[1m50/50\u001b[0m \u001b[32m━━━━━━━━━━━━━━━━━━━━\u001b[0m\u001b[37m\u001b[0m \u001b[1m1s\u001b[0m 6ms/step - accuracy: 0.9629 - loss: 0.1486 - val_accuracy: 0.8838 - val_loss: 0.3600\n",
            "Epoch 16/40\n",
            "\u001b[1m50/50\u001b[0m \u001b[32m━━━━━━━━━━━━━━━━━━━━\u001b[0m\u001b[37m\u001b[0m \u001b[1m0s\u001b[0m 6ms/step - accuracy: 0.9691 - loss: 0.1307 - val_accuracy: 0.8888 - val_loss: 0.3401\n",
            "Epoch 17/40\n",
            "\u001b[1m50/50\u001b[0m \u001b[32m━━━━━━━━━━━━━━━━━━━━\u001b[0m\u001b[37m\u001b[0m \u001b[1m0s\u001b[0m 6ms/step - accuracy: 0.9775 - loss: 0.1157 - val_accuracy: 0.8963 - val_loss: 0.3369\n",
            "Epoch 18/40\n",
            "\u001b[1m50/50\u001b[0m \u001b[32m━━━━━━━━━━━━━━━━━━━━\u001b[0m\u001b[37m\u001b[0m \u001b[1m1s\u001b[0m 6ms/step - accuracy: 0.9772 - loss: 0.1139 - val_accuracy: 0.9025 - val_loss: 0.3268\n",
            "Epoch 19/40\n",
            "\u001b[1m50/50\u001b[0m \u001b[32m━━━━━━━━━━━━━━━━━━━━\u001b[0m\u001b[37m\u001b[0m \u001b[1m0s\u001b[0m 6ms/step - accuracy: 0.9812 - loss: 0.1039 - val_accuracy: 0.9062 - val_loss: 0.3150\n",
            "Epoch 20/40\n",
            "\u001b[1m50/50\u001b[0m \u001b[32m━━━━━━━━━━━━━━━━━━━━\u001b[0m\u001b[37m\u001b[0m \u001b[1m1s\u001b[0m 6ms/step - accuracy: 0.9835 - loss: 0.0970 - val_accuracy: 0.9100 - val_loss: 0.3079\n",
            "Epoch 21/40\n",
            "\u001b[1m50/50\u001b[0m \u001b[32m━━━━━━━━━━━━━━━━━━━━\u001b[0m\u001b[37m\u001b[0m \u001b[1m1s\u001b[0m 6ms/step - accuracy: 0.9867 - loss: 0.0885 - val_accuracy: 0.9038 - val_loss: 0.3065\n",
            "Epoch 22/40\n",
            "\u001b[1m50/50\u001b[0m \u001b[32m━━━━━━━━━━━━━━━━━━━━\u001b[0m\u001b[37m\u001b[0m \u001b[1m0s\u001b[0m 8ms/step - accuracy: 0.9888 - loss: 0.0778 - val_accuracy: 0.9137 - val_loss: 0.2934\n",
            "Epoch 23/40\n",
            "\u001b[1m50/50\u001b[0m \u001b[32m━━━━━━━━━━━━━━━━━━━━\u001b[0m\u001b[37m\u001b[0m \u001b[1m1s\u001b[0m 10ms/step - accuracy: 0.9950 - loss: 0.0676 - val_accuracy: 0.9150 - val_loss: 0.2942\n",
            "Epoch 24/40\n",
            "\u001b[1m50/50\u001b[0m \u001b[32m━━━━━━━━━━━━━━━━━━━━\u001b[0m\u001b[37m\u001b[0m \u001b[1m1s\u001b[0m 11ms/step - accuracy: 0.9956 - loss: 0.0587 - val_accuracy: 0.9162 - val_loss: 0.2912\n",
            "Epoch 25/40\n",
            "\u001b[1m50/50\u001b[0m \u001b[32m━━━━━━━━━━━━━━━━━━━━\u001b[0m\u001b[37m\u001b[0m \u001b[1m1s\u001b[0m 10ms/step - accuracy: 0.9973 - loss: 0.0556 - val_accuracy: 0.9200 - val_loss: 0.2831\n",
            "Epoch 26/40\n",
            "\u001b[1m50/50\u001b[0m \u001b[32m━━━━━━━━━━━━━━━━━━━━\u001b[0m\u001b[37m\u001b[0m \u001b[1m1s\u001b[0m 9ms/step - accuracy: 0.9981 - loss: 0.0517 - val_accuracy: 0.9175 - val_loss: 0.2833\n",
            "Epoch 27/40\n",
            "\u001b[1m50/50\u001b[0m \u001b[32m━━━━━━━━━━━━━━━━━━━━\u001b[0m\u001b[37m\u001b[0m \u001b[1m1s\u001b[0m 10ms/step - accuracy: 0.9969 - loss: 0.0489 - val_accuracy: 0.9187 - val_loss: 0.2807\n",
            "Epoch 28/40\n",
            "\u001b[1m50/50\u001b[0m \u001b[32m━━━━━━━━━━━━━━━━━━━━\u001b[0m\u001b[37m\u001b[0m \u001b[1m1s\u001b[0m 7ms/step - accuracy: 0.9980 - loss: 0.0414 - val_accuracy: 0.9200 - val_loss: 0.2789\n",
            "Epoch 29/40\n",
            "\u001b[1m50/50\u001b[0m \u001b[32m━━━━━━━━━━━━━━━━━━━━\u001b[0m\u001b[37m\u001b[0m \u001b[1m1s\u001b[0m 6ms/step - accuracy: 0.9985 - loss: 0.0416 - val_accuracy: 0.9237 - val_loss: 0.2737\n",
            "Epoch 30/40\n",
            "\u001b[1m50/50\u001b[0m \u001b[32m━━━━━━━━━━━━━━━━━━━━\u001b[0m\u001b[37m\u001b[0m \u001b[1m0s\u001b[0m 6ms/step - accuracy: 0.9993 - loss: 0.0334 - val_accuracy: 0.9250 - val_loss: 0.2723\n",
            "Epoch 31/40\n",
            "\u001b[1m50/50\u001b[0m \u001b[32m━━━━━━━━━━━━━━━━━━━━\u001b[0m\u001b[37m\u001b[0m \u001b[1m0s\u001b[0m 6ms/step - accuracy: 0.9987 - loss: 0.0319 - val_accuracy: 0.9250 - val_loss: 0.2703\n",
            "Epoch 32/40\n",
            "\u001b[1m50/50\u001b[0m \u001b[32m━━━━━━━━━━━━━━━━━━━━\u001b[0m\u001b[37m\u001b[0m \u001b[1m1s\u001b[0m 6ms/step - accuracy: 0.9997 - loss: 0.0317 - val_accuracy: 0.9250 - val_loss: 0.2731\n",
            "Epoch 33/40\n",
            "\u001b[1m50/50\u001b[0m \u001b[32m━━━━━━━━━━━━━━━━━━━━\u001b[0m\u001b[37m\u001b[0m \u001b[1m1s\u001b[0m 6ms/step - accuracy: 0.9996 - loss: 0.0300 - val_accuracy: 0.9262 - val_loss: 0.2680\n",
            "Epoch 34/40\n",
            "\u001b[1m50/50\u001b[0m \u001b[32m━━━━━━━━━━━━━━━━━━━━\u001b[0m\u001b[37m\u001b[0m \u001b[1m0s\u001b[0m 6ms/step - accuracy: 0.9998 - loss: 0.0255 - val_accuracy: 0.9250 - val_loss: 0.2704\n",
            "Epoch 35/40\n",
            "\u001b[1m50/50\u001b[0m \u001b[32m━━━━━━━━━━━━━━━━━━━━\u001b[0m\u001b[37m\u001b[0m \u001b[1m1s\u001b[0m 6ms/step - accuracy: 0.9997 - loss: 0.0253 - val_accuracy: 0.9275 - val_loss: 0.2679\n",
            "Epoch 36/40\n",
            "\u001b[1m50/50\u001b[0m \u001b[32m━━━━━━━━━━━━━━━━━━━━\u001b[0m\u001b[37m\u001b[0m \u001b[1m1s\u001b[0m 6ms/step - accuracy: 0.9998 - loss: 0.0210 - val_accuracy: 0.9250 - val_loss: 0.2670\n",
            "Epoch 37/40\n",
            "\u001b[1m50/50\u001b[0m \u001b[32m━━━━━━━━━━━━━━━━━━━━\u001b[0m\u001b[37m\u001b[0m \u001b[1m0s\u001b[0m 6ms/step - accuracy: 0.9996 - loss: 0.0202 - val_accuracy: 0.9275 - val_loss: 0.2669\n",
            "Epoch 38/40\n",
            "\u001b[1m50/50\u001b[0m \u001b[32m━━━━━━━━━━━━━━━━━━━━\u001b[0m\u001b[37m\u001b[0m \u001b[1m0s\u001b[0m 6ms/step - accuracy: 0.9997 - loss: 0.0193 - val_accuracy: 0.9262 - val_loss: 0.2674\n",
            "Epoch 39/40\n",
            "\u001b[1m50/50\u001b[0m \u001b[32m━━━━━━━━━━━━━━━━━━━━\u001b[0m\u001b[37m\u001b[0m \u001b[1m0s\u001b[0m 6ms/step - accuracy: 0.9999 - loss: 0.0177 - val_accuracy: 0.9262 - val_loss: 0.2690\n",
            "Epoch 40/40\n",
            "\u001b[1m50/50\u001b[0m \u001b[32m━━━━━━━━━━━━━━━━━━━━\u001b[0m\u001b[37m\u001b[0m \u001b[1m1s\u001b[0m 6ms/step - accuracy: 1.0000 - loss: 0.0169 - val_accuracy: 0.9250 - val_loss: 0.2691\n",
            "\u001b[1m32/32\u001b[0m \u001b[32m━━━━━━━━━━━━━━━━━━━━\u001b[0m\u001b[37m\u001b[0m \u001b[1m0s\u001b[0m 3ms/step - accuracy: 0.9036 - loss: 0.3075\n",
            "\u001b[1m32/32\u001b[0m \u001b[32m━━━━━━━━━━━━━━━━━━━━\u001b[0m\u001b[37m\u001b[0m \u001b[1m0s\u001b[0m 4ms/step\n",
            "Epoch 1/40\n",
            "\u001b[1m50/50\u001b[0m \u001b[32m━━━━━━━━━━━━━━━━━━━━\u001b[0m\u001b[37m\u001b[0m \u001b[1m2s\u001b[0m 10ms/step - accuracy: 0.1477 - loss: 3.0310 - val_accuracy: 0.3050 - val_loss: 1.9877\n",
            "Epoch 2/40\n",
            "\u001b[1m50/50\u001b[0m \u001b[32m━━━━━━━━━━━━━━━━━━━━\u001b[0m\u001b[37m\u001b[0m \u001b[1m0s\u001b[0m 6ms/step - accuracy: 0.3947 - loss: 1.7864 - val_accuracy: 0.5312 - val_loss: 1.4361\n",
            "Epoch 3/40\n",
            "\u001b[1m50/50\u001b[0m \u001b[32m━━━━━━━━━━━━━━━━━━━━\u001b[0m\u001b[37m\u001b[0m \u001b[1m1s\u001b[0m 6ms/step - accuracy: 0.6015 - loss: 1.2503 - val_accuracy: 0.6513 - val_loss: 1.1131\n",
            "Epoch 4/40\n",
            "\u001b[1m50/50\u001b[0m \u001b[32m━━━━━━━━━━━━━━━━━━━━\u001b[0m\u001b[37m\u001b[0m \u001b[1m1s\u001b[0m 10ms/step - accuracy: 0.7185 - loss: 0.9113 - val_accuracy: 0.7113 - val_loss: 0.9085\n",
            "Epoch 5/40\n",
            "\u001b[1m50/50\u001b[0m \u001b[32m━━━━━━━━━━━━━━━━━━━━\u001b[0m\u001b[37m\u001b[0m \u001b[1m1s\u001b[0m 11ms/step - accuracy: 0.7905 - loss: 0.7328 - val_accuracy: 0.7500 - val_loss: 0.7828\n",
            "Epoch 6/40\n",
            "\u001b[1m50/50\u001b[0m \u001b[32m━━━━━━━━━━━━━━━━━━━━\u001b[0m\u001b[37m\u001b[0m \u001b[1m1s\u001b[0m 11ms/step - accuracy: 0.8327 - loss: 0.5859 - val_accuracy: 0.7725 - val_loss: 0.6959\n",
            "Epoch 7/40\n",
            "\u001b[1m50/50\u001b[0m \u001b[32m━━━━━━━━━━━━━━━━━━━━\u001b[0m\u001b[37m\u001b[0m \u001b[1m1s\u001b[0m 11ms/step - accuracy: 0.8550 - loss: 0.4978 - val_accuracy: 0.7975 - val_loss: 0.6384\n",
            "Epoch 8/40\n",
            "\u001b[1m50/50\u001b[0m \u001b[32m━━━━━━━━━━━━━━━━━━━━\u001b[0m\u001b[37m\u001b[0m \u001b[1m1s\u001b[0m 10ms/step - accuracy: 0.8795 - loss: 0.4353 - val_accuracy: 0.8075 - val_loss: 0.5901\n",
            "Epoch 9/40\n",
            "\u001b[1m50/50\u001b[0m \u001b[32m━━━━━━━━━━━━━━━━━━━━\u001b[0m\u001b[37m\u001b[0m \u001b[1m1s\u001b[0m 11ms/step - accuracy: 0.8955 - loss: 0.3847 - val_accuracy: 0.8175 - val_loss: 0.5549\n",
            "Epoch 10/40\n",
            "\u001b[1m50/50\u001b[0m \u001b[32m━━━━━━━━━━━━━━━━━━━━\u001b[0m\u001b[37m\u001b[0m \u001b[1m0s\u001b[0m 6ms/step - accuracy: 0.9059 - loss: 0.3280 - val_accuracy: 0.8250 - val_loss: 0.5281\n",
            "Epoch 11/40\n",
            "\u001b[1m50/50\u001b[0m \u001b[32m━━━━━━━━━━━━━━━━━━━━\u001b[0m\u001b[37m\u001b[0m \u001b[1m1s\u001b[0m 6ms/step - accuracy: 0.9071 - loss: 0.3137 - val_accuracy: 0.8388 - val_loss: 0.5036\n",
            "Epoch 12/40\n",
            "\u001b[1m50/50\u001b[0m \u001b[32m━━━━━━━━━━━━━━━━━━━━\u001b[0m\u001b[37m\u001b[0m \u001b[1m0s\u001b[0m 6ms/step - accuracy: 0.9286 - loss: 0.2693 - val_accuracy: 0.8413 - val_loss: 0.4816\n",
            "Epoch 13/40\n",
            "\u001b[1m50/50\u001b[0m \u001b[32m━━━━━━━━━━━━━━━━━━━━\u001b[0m\u001b[37m\u001b[0m \u001b[1m0s\u001b[0m 6ms/step - accuracy: 0.9301 - loss: 0.2569 - val_accuracy: 0.8475 - val_loss: 0.4651\n",
            "Epoch 14/40\n",
            "\u001b[1m50/50\u001b[0m \u001b[32m━━━━━━━━━━━━━━━━━━━━\u001b[0m\u001b[37m\u001b[0m \u001b[1m1s\u001b[0m 6ms/step - accuracy: 0.9407 - loss: 0.2200 - val_accuracy: 0.8550 - val_loss: 0.4500\n",
            "Epoch 15/40\n",
            "\u001b[1m50/50\u001b[0m \u001b[32m━━━━━━━━━━━━━━━━━━━━\u001b[0m\u001b[37m\u001b[0m \u001b[1m0s\u001b[0m 6ms/step - accuracy: 0.9515 - loss: 0.1970 - val_accuracy: 0.8637 - val_loss: 0.4410\n",
            "Epoch 16/40\n",
            "\u001b[1m50/50\u001b[0m \u001b[32m━━━━━━━━━━━━━━━━━━━━\u001b[0m\u001b[37m\u001b[0m \u001b[1m0s\u001b[0m 6ms/step - accuracy: 0.9495 - loss: 0.1860 - val_accuracy: 0.8675 - val_loss: 0.4239\n",
            "Epoch 17/40\n",
            "\u001b[1m50/50\u001b[0m \u001b[32m━━━━━━━━━━━━━━━━━━━━\u001b[0m\u001b[37m\u001b[0m \u001b[1m0s\u001b[0m 6ms/step - accuracy: 0.9608 - loss: 0.1649 - val_accuracy: 0.8662 - val_loss: 0.4176\n",
            "Epoch 18/40\n",
            "\u001b[1m50/50\u001b[0m \u001b[32m━━━━━━━━━━━━━━━━━━━━\u001b[0m\u001b[37m\u001b[0m \u001b[1m0s\u001b[0m 6ms/step - accuracy: 0.9651 - loss: 0.1489 - val_accuracy: 0.8712 - val_loss: 0.4058\n",
            "Epoch 19/40\n",
            "\u001b[1m50/50\u001b[0m \u001b[32m━━━━━━━━━━━━━━━━━━━━\u001b[0m\u001b[37m\u001b[0m \u001b[1m1s\u001b[0m 6ms/step - accuracy: 0.9677 - loss: 0.1411 - val_accuracy: 0.8775 - val_loss: 0.4005\n",
            "Epoch 20/40\n",
            "\u001b[1m50/50\u001b[0m \u001b[32m━━━━━━━━━━━━━━━━━━━━\u001b[0m\u001b[37m\u001b[0m \u001b[1m0s\u001b[0m 8ms/step - accuracy: 0.9752 - loss: 0.1333 - val_accuracy: 0.8788 - val_loss: 0.3952\n",
            "Epoch 21/40\n",
            "\u001b[1m50/50\u001b[0m \u001b[32m━━━━━━━━━━━━━━━━━━━━\u001b[0m\u001b[37m\u001b[0m \u001b[1m1s\u001b[0m 6ms/step - accuracy: 0.9771 - loss: 0.1148 - val_accuracy: 0.8813 - val_loss: 0.3895\n",
            "Epoch 22/40\n",
            "\u001b[1m50/50\u001b[0m \u001b[32m━━━━━━━━━━━━━━━━━━━━\u001b[0m\u001b[37m\u001b[0m \u001b[1m1s\u001b[0m 6ms/step - accuracy: 0.9829 - loss: 0.1085 - val_accuracy: 0.8813 - val_loss: 0.3875\n",
            "Epoch 23/40\n",
            "\u001b[1m50/50\u001b[0m \u001b[32m━━━━━━━━━━━━━━━━━━━━\u001b[0m\u001b[37m\u001b[0m \u001b[1m0s\u001b[0m 5ms/step - accuracy: 0.9891 - loss: 0.0929 - val_accuracy: 0.8850 - val_loss: 0.3798\n",
            "Epoch 24/40\n",
            "\u001b[1m50/50\u001b[0m \u001b[32m━━━━━━━━━━━━━━━━━━━━\u001b[0m\u001b[37m\u001b[0m \u001b[1m0s\u001b[0m 6ms/step - accuracy: 0.9881 - loss: 0.0958 - val_accuracy: 0.8850 - val_loss: 0.3749\n",
            "Epoch 25/40\n",
            "\u001b[1m50/50\u001b[0m \u001b[32m━━━━━━━━━━━━━━━━━━━━\u001b[0m\u001b[37m\u001b[0m \u001b[1m0s\u001b[0m 7ms/step - accuracy: 0.9915 - loss: 0.0834 - val_accuracy: 0.8825 - val_loss: 0.3736\n",
            "Epoch 26/40\n",
            "\u001b[1m50/50\u001b[0m \u001b[32m━━━━━━━━━━━━━━━━━━━━\u001b[0m\u001b[37m\u001b[0m \u001b[1m1s\u001b[0m 6ms/step - accuracy: 0.9914 - loss: 0.0788 - val_accuracy: 0.8825 - val_loss: 0.3735\n",
            "Epoch 27/40\n",
            "\u001b[1m50/50\u001b[0m \u001b[32m━━━━━━━━━━━━━━━━━━━━\u001b[0m\u001b[37m\u001b[0m \u001b[1m0s\u001b[0m 6ms/step - accuracy: 0.9945 - loss: 0.0714 - val_accuracy: 0.8838 - val_loss: 0.3713\n",
            "Epoch 28/40\n",
            "\u001b[1m50/50\u001b[0m \u001b[32m━━━━━━━━━━━━━━━━━━━━\u001b[0m\u001b[37m\u001b[0m \u001b[1m1s\u001b[0m 5ms/step - accuracy: 0.9946 - loss: 0.0677 - val_accuracy: 0.8850 - val_loss: 0.3637\n",
            "Epoch 29/40\n",
            "\u001b[1m50/50\u001b[0m \u001b[32m━━━━━━━━━━━━━━━━━━━━\u001b[0m\u001b[37m\u001b[0m \u001b[1m0s\u001b[0m 6ms/step - accuracy: 0.9960 - loss: 0.0667 - val_accuracy: 0.8850 - val_loss: 0.3644\n",
            "Epoch 30/40\n",
            "\u001b[1m50/50\u001b[0m \u001b[32m━━━━━━━━━━━━━━━━━━━━\u001b[0m\u001b[37m\u001b[0m \u001b[1m1s\u001b[0m 8ms/step - accuracy: 0.9970 - loss: 0.0555 - val_accuracy: 0.8875 - val_loss: 0.3605\n",
            "Epoch 31/40\n",
            "\u001b[1m50/50\u001b[0m \u001b[32m━━━━━━━━━━━━━━━━━━━━\u001b[0m\u001b[37m\u001b[0m \u001b[1m1s\u001b[0m 11ms/step - accuracy: 0.9981 - loss: 0.0510 - val_accuracy: 0.8913 - val_loss: 0.3598\n",
            "Epoch 32/40\n",
            "\u001b[1m50/50\u001b[0m \u001b[32m━━━━━━━━━━━━━━━━━━━━\u001b[0m\u001b[37m\u001b[0m \u001b[1m1s\u001b[0m 18ms/step - accuracy: 0.9986 - loss: 0.0480 - val_accuracy: 0.8888 - val_loss: 0.3601\n",
            "Epoch 33/40\n",
            "\u001b[1m50/50\u001b[0m \u001b[32m━━━━━━━━━━━━━━━━━━━━\u001b[0m\u001b[37m\u001b[0m \u001b[1m1s\u001b[0m 16ms/step - accuracy: 0.9979 - loss: 0.0440 - val_accuracy: 0.8925 - val_loss: 0.3538\n",
            "Epoch 34/40\n",
            "\u001b[1m50/50\u001b[0m \u001b[32m━━━━━━━━━━━━━━━━━━━━\u001b[0m\u001b[37m\u001b[0m \u001b[1m1s\u001b[0m 21ms/step - accuracy: 0.9971 - loss: 0.0425 - val_accuracy: 0.8888 - val_loss: 0.3589\n",
            "Epoch 35/40\n",
            "\u001b[1m50/50\u001b[0m \u001b[32m━━━━━━━━━━━━━━━━━━━━\u001b[0m\u001b[37m\u001b[0m \u001b[1m1s\u001b[0m 16ms/step - accuracy: 0.9982 - loss: 0.0377 - val_accuracy: 0.8950 - val_loss: 0.3541\n",
            "Epoch 36/40\n",
            "\u001b[1m50/50\u001b[0m \u001b[32m━━━━━━━━━━━━━━━━━━━━\u001b[0m\u001b[37m\u001b[0m \u001b[1m1s\u001b[0m 10ms/step - accuracy: 0.9987 - loss: 0.0373 - val_accuracy: 0.8913 - val_loss: 0.3575\n",
            "Epoch 37/40\n",
            "\u001b[1m50/50\u001b[0m \u001b[32m━━━━━━━━━━━━━━━━━━━━\u001b[0m\u001b[37m\u001b[0m \u001b[1m1s\u001b[0m 10ms/step - accuracy: 0.9993 - loss: 0.0331 - val_accuracy: 0.8900 - val_loss: 0.3540\n",
            "Epoch 38/40\n",
            "\u001b[1m50/50\u001b[0m \u001b[32m━━━━━━━━━━━━━━━━━━━━\u001b[0m\u001b[37m\u001b[0m \u001b[1m0s\u001b[0m 7ms/step - accuracy: 0.9998 - loss: 0.0334 - val_accuracy: 0.8925 - val_loss: 0.3553\n",
            "Epoch 39/40\n",
            "\u001b[1m50/50\u001b[0m \u001b[32m━━━━━━━━━━━━━━━━━━━━\u001b[0m\u001b[37m\u001b[0m \u001b[1m0s\u001b[0m 6ms/step - accuracy: 0.9996 - loss: 0.0288 - val_accuracy: 0.8938 - val_loss: 0.3576\n",
            "Epoch 40/40\n",
            "\u001b[1m50/50\u001b[0m \u001b[32m━━━━━━━━━━━━━━━━━━━━\u001b[0m\u001b[37m\u001b[0m \u001b[1m0s\u001b[0m 6ms/step - accuracy: 0.9997 - loss: 0.0286 - val_accuracy: 0.8913 - val_loss: 0.3527\n",
            "\u001b[1m32/32\u001b[0m \u001b[32m━━━━━━━━━━━━━━━━━━━━\u001b[0m\u001b[37m\u001b[0m \u001b[1m0s\u001b[0m 3ms/step - accuracy: 0.9115 - loss: 0.3221\n",
            "\u001b[1m32/32\u001b[0m \u001b[32m━━━━━━━━━━━━━━━━━━━━\u001b[0m\u001b[37m\u001b[0m \u001b[1m0s\u001b[0m 3ms/step\n",
            "\n",
            "------------------------------------------------------\n",
            "\n",
            "SVM Combined (ALL) Accuracy: 94.80\n",
            "SVM Combined (ALL) Classification Report:\n",
            "               precision    recall  f1-score   support\n",
            "\n",
            "           0       1.00      0.99      0.99        94\n",
            "           1       0.96      0.96      0.96        98\n",
            "           2       0.93      0.89      0.91       111\n",
            "           3       0.89      0.88      0.88        81\n",
            "           4       0.93      0.90      0.92       105\n",
            "           5       0.88      0.89      0.89        85\n",
            "           6       0.99      0.97      0.98       105\n",
            "           7       0.98      0.99      0.99       112\n",
            "           8       0.97      0.99      0.98       111\n",
            "           9       0.92      0.99      0.95        98\n",
            "\n",
            "    accuracy                           0.95      1000\n",
            "   macro avg       0.95      0.95      0.95      1000\n",
            "weighted avg       0.95      0.95      0.95      1000\n",
            "\n",
            "SVM Combined (ALL) Confusion Matrix:\n"
          ]
        },
        {
          "output_type": "display_data",
          "data": {
            "text/plain": [
              "array([[ 93,   1,   0,   0,   0,   0,   0,   0,   0,   0],\n",
              "       [  0,  94,   0,   2,   0,   0,   0,   2,   0,   0],\n",
              "       [  0,   0,  99,   3,   4,   5,   0,   0,   0,   0],\n",
              "       [  0,   3,   0,  71,   1,   5,   0,   0,   0,   1],\n",
              "       [  0,   0,   1,   2,  95,   0,   0,   0,   0,   7],\n",
              "       [  0,   0,   6,   1,   1,  76,   0,   0,   0,   1],\n",
              "       [  0,   0,   0,   0,   0,   0, 102,   0,   3,   0],\n",
              "       [  0,   0,   0,   0,   1,   0,   0, 111,   0,   0],\n",
              "       [  0,   0,   0,   0,   0,   0,   1,   0, 110,   0],\n",
              "       [  0,   0,   0,   1,   0,   0,   0,   0,   0,  97]])"
            ]
          },
          "metadata": {}
        },
        {
          "output_type": "stream",
          "name": "stdout",
          "text": [
            "\n",
            "------------------------------------------------------\n",
            "\n",
            "SVM Combined (HOG + LBP) Accuracy: 93.60\n",
            "SVM Combined (HOG + LBP) Classification Report:\n",
            "               precision    recall  f1-score   support\n",
            "\n",
            "           0       1.00      0.99      0.99        94\n",
            "           1       0.94      0.95      0.94        98\n",
            "           2       0.90      0.86      0.88       111\n",
            "           3       0.88      0.85      0.87        81\n",
            "           4       0.93      0.92      0.93       105\n",
            "           5       0.83      0.87      0.85        85\n",
            "           6       0.99      0.97      0.98       105\n",
            "           7       0.98      0.96      0.97       112\n",
            "           8       0.96      0.99      0.98       111\n",
            "           9       0.91      0.97      0.94        98\n",
            "\n",
            "    accuracy                           0.94      1000\n",
            "   macro avg       0.93      0.93      0.93      1000\n",
            "weighted avg       0.94      0.94      0.94      1000\n",
            "\n",
            "SVM Combined (HOG + LBP) Confusion Matrix:\n"
          ]
        },
        {
          "output_type": "display_data",
          "data": {
            "text/plain": [
              "array([[ 93,   1,   0,   0,   0,   0,   0,   0,   0,   0],\n",
              "       [  0,  93,   0,   2,   0,   0,   0,   2,   1,   0],\n",
              "       [  0,   0,  95,   4,   5,   7,   0,   0,   0,   0],\n",
              "       [  0,   2,   2,  69,   0,   6,   0,   0,   0,   2],\n",
              "       [  0,   0,   1,   0,  97,   0,   0,   0,   0,   7],\n",
              "       [  0,   0,   8,   2,   1,  74,   0,   0,   0,   0],\n",
              "       [  0,   0,   0,   0,   0,   0, 102,   0,   3,   0],\n",
              "       [  0,   3,   0,   0,   1,   0,   0, 108,   0,   0],\n",
              "       [  0,   0,   0,   0,   0,   0,   1,   0, 110,   0],\n",
              "       [  0,   0,   0,   1,   0,   2,   0,   0,   0,  95]])"
            ]
          },
          "metadata": {}
        },
        {
          "output_type": "stream",
          "name": "stdout",
          "text": [
            "\n",
            "------------------------------------------------------\n",
            "\n",
            "ANN Combined (ALL) Accuracy: 91.20\n",
            "ANN Combined (ALL) Classification Report:\n",
            "               precision    recall  f1-score   support\n",
            "\n",
            "           0       1.00      0.99      0.99        94\n",
            "           1       0.92      0.90      0.91        98\n",
            "           2       0.83      0.82      0.82       111\n",
            "           3       0.88      0.83      0.85        81\n",
            "           4       0.84      0.90      0.87       105\n",
            "           5       0.81      0.84      0.82        85\n",
            "           6       0.99      0.96      0.98       105\n",
            "           7       0.95      0.97      0.96       112\n",
            "           8       0.96      0.99      0.97       111\n",
            "           9       0.95      0.90      0.92        98\n",
            "\n",
            "    accuracy                           0.91      1000\n",
            "   macro avg       0.91      0.91      0.91      1000\n",
            "weighted avg       0.91      0.91      0.91      1000\n",
            "\n",
            "ANN Combined (ALL) Confusion Matrix:\n"
          ]
        },
        {
          "output_type": "display_data",
          "data": {
            "text/plain": [
              "array([[ 93,   1,   0,   0,   0,   0,   0,   0,   0,   0],\n",
              "       [  0,  88,   0,   2,   0,   2,   0,   4,   1,   1],\n",
              "       [  0,   0,  91,   2,   7,  10,   0,   1,   0,   0],\n",
              "       [  0,   4,   3,  67,   4,   2,   0,   1,   0,   0],\n",
              "       [  0,   0,   4,   2,  94,   1,   0,   0,   0,   4],\n",
              "       [  0,   0,   7,   2,   5,  71,   0,   0,   0,   0],\n",
              "       [  0,   0,   0,   0,   0,   0, 101,   0,   4,   0],\n",
              "       [  0,   2,   0,   0,   1,   0,   0, 109,   0,   0],\n",
              "       [  0,   0,   0,   0,   0,   0,   1,   0, 110,   0],\n",
              "       [  0,   1,   5,   1,   1,   2,   0,   0,   0,  88]])"
            ]
          },
          "metadata": {}
        },
        {
          "output_type": "stream",
          "name": "stdout",
          "text": [
            "\n",
            "------------------------------------------------------\n",
            "\n",
            "ANN Combined (HOG + LBP) Accuracy: 90.90\n",
            "ANN Combined (HOG + LBP) Classification Report:\n",
            "               precision    recall  f1-score   support\n",
            "\n",
            "           0       0.99      0.99      0.99        94\n",
            "           1       0.90      0.87      0.89        98\n",
            "           2       0.87      0.82      0.84       111\n",
            "           3       0.86      0.80      0.83        81\n",
            "           4       0.86      0.90      0.88       105\n",
            "           5       0.77      0.84      0.80        85\n",
            "           6       0.99      0.96      0.98       105\n",
            "           7       0.94      0.96      0.95       112\n",
            "           8       0.97      0.99      0.98       111\n",
            "           9       0.91      0.93      0.92        98\n",
            "\n",
            "    accuracy                           0.91      1000\n",
            "   macro avg       0.91      0.91      0.91      1000\n",
            "weighted avg       0.91      0.91      0.91      1000\n",
            "\n",
            "ANN Combined (HOG + LBP) Confusion Matrix:\n"
          ]
        },
        {
          "output_type": "display_data",
          "data": {
            "text/plain": [
              "array([[ 93,   0,   0,   0,   0,   0,   0,   0,   0,   1],\n",
              "       [  0,  85,   0,   3,   0,   3,   0,   7,   0,   0],\n",
              "       [  0,   0,  91,   4,   6,  10,   0,   0,   0,   0],\n",
              "       [  0,   3,   1,  65,   4,   6,   0,   0,   0,   2],\n",
              "       [  1,   0,   2,   2,  94,   2,   0,   0,   0,   4],\n",
              "       [  0,   0,   8,   1,   3,  71,   0,   0,   0,   2],\n",
              "       [  0,   1,   0,   0,   0,   0, 101,   0,   3,   0],\n",
              "       [  0,   3,   0,   0,   1,   0,   0, 108,   0,   0],\n",
              "       [  0,   0,   0,   0,   0,   0,   1,   0, 110,   0],\n",
              "       [  0,   2,   3,   1,   1,   0,   0,   0,   0,  91]])"
            ]
          },
          "metadata": {}
        }
      ],
      "source": [
        "# Combines all features (Raw Pixels, HOG and LBP) for both training and test datasets\n",
        "X_train_combined_all = np.hstack([X_train_raw, X_train_hog, X_train_lbp])\n",
        "X_test_combined_all = np.hstack([X_test_raw, X_test_hog, X_test_lbp])\n",
        "# Combines 2 of 3 features (HOG and LBP) for both training and test datasets\n",
        "X_train_combined_hoglbp = np.hstack([X_train_hog, X_train_lbp])\n",
        "X_test_combined_hoglbp = np.hstack([X_test_hog, X_test_lbp])\n",
        "# Trains SVM on all features\n",
        "model_svm_combined_all, accuracy_svm_combined_all, report_svm_combined_all, cmat_svm_combined_all = train_svm(X_train_combined_all, y_train, X_test_combined_all, y_test)\n",
        "# Trains SVM on 2 of 3 features\n",
        "model_svm_combined_hoglbp, accuracy_svm_combined_hoglbp, report_svm_combined_hoglbp, cmat_svm_combined_hoglbp = train_svm(X_train_combined_hoglbp, y_train, X_test_combined_hoglbp, y_test)\n",
        "# Trains ANN on all features\n",
        "model_ann_combined_all, accuracy_ann_combined_all, report_ann_combined_all, cmat_ann_combined_all = train_ann(X_train_combined_all, y_train, X_test_combined_all, y_test)\n",
        "# Trains ANN on 2 of 3 features\n",
        "model_ann_combined_hoglbp, accuracy_ann_combined_hoglbp, report_ann_combined_hoglbp, cmat_ann_combined_hoglbp = train_ann(X_train_combined_hoglbp, y_train, X_test_combined_hoglbp, y_test)\n",
        "print(\"\\n------------------------------------------------------\\n\")\n",
        "print(f\"SVM Combined (ALL) Accuracy: {accuracy_svm_combined_all * 100:.2f}\") # Prints accuracy\n",
        "print(\"SVM Combined (ALL) Classification Report:\\n\", report_svm_combined_all) # Prints classification report\n",
        "print(\"SVM Combined (ALL) Confusion Matrix:\")\n",
        "display(cmat_svm_combined_all) # Displays confusion matrix\n",
        "print(\"\\n------------------------------------------------------\\n\")\n",
        "print(f\"SVM Combined (HOG + LBP) Accuracy: {accuracy_svm_combined_hoglbp * 100:.2f}\") # Prints accuracy\n",
        "print(\"SVM Combined (HOG + LBP) Classification Report:\\n\", report_svm_combined_hoglbp) # Prints classification report\n",
        "print(\"SVM Combined (HOG + LBP) Confusion Matrix:\")\n",
        "display(cmat_svm_combined_hoglbp) # Displays confusion matrix\n",
        "print(\"\\n------------------------------------------------------\\n\")\n",
        "print(f\"ANN Combined (ALL) Accuracy: {accuracy_ann_combined_all * 100:.2f}\") # Prints accuracy\n",
        "print(\"ANN Combined (ALL) Classification Report:\\n\", report_ann_combined_all) # Prints classification report\n",
        "print(\"ANN Combined (ALL) Confusion Matrix:\")\n",
        "display(cmat_ann_combined_all) # Displays confusion matrix\n",
        "print(\"\\n------------------------------------------------------\\n\")\n",
        "print(f\"ANN Combined (HOG + LBP) Accuracy: {accuracy_ann_combined_hoglbp * 100:.2f}\") # Prints accuracy\n",
        "print(\"ANN Combined (HOG + LBP) Classification Report:\\n\", report_ann_combined_hoglbp) # Prints classification report\n",
        "print(\"ANN Combined (HOG + LBP) Confusion Matrix:\")\n",
        "display(cmat_ann_combined_hoglbp) # Displays confusion matrix"
      ]
    },
    {
      "cell_type": "markdown",
      "source": [
        "Creates an easy to read pandas dataframe to compare the feature types and their respective accuracies of all models trained."
      ],
      "metadata": {
        "id": "v8w6OWsLQ8rk"
      }
    },
    {
      "cell_type": "code",
      "source": [
        "# Create a pandas dataframe to store accuracies of all models based on features used\n",
        "results = pd.DataFrame({\n",
        "    'Feature Type': ['Raw Pixels', 'HOG', 'LBP', 'Combined (ALL)', 'Combined (HOG+LBP)'],\n",
        "    'SVM Accuracy (%)': [accuracy_svm_raw * 100, accuracy_svm_hog * 100, accuracy_svm_lbp * 100, accuracy_svm_combined_all * 100, accuracy_svm_combined_hoglbp * 100],\n",
        "    'ANN Accuracy (%)': [accuracy_ann_raw * 100, accuracy_ann_hog * 100, accuracy_ann_lbp * 100, accuracy_ann_combined_all * 100, accuracy_ann_combined_hoglbp * 100]\n",
        "})\n",
        "# Prints dataframe\n",
        "print(results)"
      ],
      "metadata": {
        "colab": {
          "base_uri": "https://localhost:8080/"
        },
        "id": "zkkMrnUqUwYq",
        "outputId": "cf613607-ff72-4ed6-a3f5-a8d474bdeb68"
      },
      "execution_count": 222,
      "outputs": [
        {
          "output_type": "stream",
          "name": "stdout",
          "text": [
            "         Feature Type  SVM Accuracy (%)  ANN Accuracy (%)\n",
            "0          Raw Pixels              95.4         92.400002\n",
            "1                 HOG              98.0         96.100003\n",
            "2                 LBP              93.3         90.899998\n",
            "3      Combined (ALL)              94.8         91.200000\n",
            "4  Combined (HOG+LBP)              93.6         90.899998\n"
          ]
        }
      ]
    },
    {
      "cell_type": "markdown",
      "source": [
        "# Results Analysis\n",
        "\n",
        "It appears that SVM outpermed the ANN model using all features and combined features. However, the ANN model did perform quite well using the HOG features."
      ],
      "metadata": {
        "id": "a8KqrawWc8Gk"
      }
    },
    {
      "cell_type": "markdown",
      "source": [
        "# Possible improvements\n",
        "\n",
        "### Data augmentation\n",
        "Due to the relatively small size of the dataset, data augmentation may be appropriate by artifically increasing the size and diversity of the data - introducing variations by applying rotation, shift, scaling and flipping transformations. However, this seemed inappropriate based on the project's goal and specifications.\n",
        "\n",
        "\n",
        "---\n",
        "\n",
        "\n",
        "\n",
        "### Feature extraction parameters\n",
        "Adding fine-tuning parameters to HOG and LBP may improve the quality of the extracted features, i.e., the number of orientations, pixel size and block size may have improve the quality of the extracted features.\n",
        "\n",
        "\n",
        "---\n",
        "\n",
        "\n",
        "### Applying a percentage to the number of principle components retained in PCA\n",
        "Setting the n_components=0.99 would retain 99% of the variance while elimination the irrevelant noise in the data. Additional experimentation with lower percentages may be fruitful.\n",
        "\n",
        "\n",
        "---\n",
        "\n",
        "\n",
        "### Parameter tuning search methods (GridSearchCV or RandomizedSearchCV)\n",
        "Although experimentation with several hyper-parameters was conducted, a more thorough search of the best combinations of parameters could improve the model's performances by a few extra points. Using GridSearchCV to conduct an exhaustive search on all combinations of the specified hyperparameters could be useful, although, depending on hardware, it could take a very long time to complete. An alternative is RandomizedSearchCV, which tests random combinations of hyperparameters to find the best performing combination. Both of these options would be useful, however, the point of this project is not to get the best performing models possible, but to ensure a firm understanding of the basics.\n",
        "\n",
        "\n",
        "---\n",
        "\n",
        "\n",
        "### ANN Architecture\n",
        "#### BatchNormalisation\n",
        "Adding BatchNormalisation to the layers may improve model stability and convergence.\n",
        "#### Dropout\n",
        "Adding dropouts to the layers to randomly deactivate neurons during training, this forces the model to rely on different neurons for each training batch. This may help prevent possible overfitting.\n",
        "#### Number of neurons per layer\n",
        "Adding more neurons may help the model's capacity to learn complex features and other hierarchical features.\n",
        "#### Keras Tuner\n",
        "Using the Keras Tuner library may have helped streamline the search of optiminal parameters by automatically testing different numbers of layers, neurons per layer, dropout rates and learning rates.\n",
        "#### Early Stopping\n",
        "By incorporating early stopping into the model, it could prevent overfitting and save time by stopping the training when the validation accuracy stops improving over a specific number of steps (patience).\n",
        "#### Conditional batch size\n",
        "Adding an if-statement into the model to change the batch size based on the type of features using for the model may have improved training effiency and accuracy.\n",
        "\n",
        "\n",
        "---\n",
        "### K-Fold Cross Validation\n",
        "As training and validation splits create variance in performance estimation, adding K-fold cross validation can introduce more reliable results estimates. This is particularly importing if you're trying to squeeze out a little more increased performance from the models by adjusting hyperparameters."
      ],
      "metadata": {
        "id": "IkIpqKltJjLr"
      }
    }
  ],
  "metadata": {
    "colab": {
      "provenance": []
    },
    "kernelspec": {
      "display_name": "Python 3",
      "name": "python3"
    },
    "language_info": {
      "name": "python"
    }
  },
  "nbformat": 4,
  "nbformat_minor": 0
}